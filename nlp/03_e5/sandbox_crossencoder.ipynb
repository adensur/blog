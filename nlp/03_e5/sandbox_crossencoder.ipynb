{
 "cells": [
  {
   "cell_type": "code",
   "execution_count": 1,
   "metadata": {},
   "outputs": [
    {
     "name": "stdout",
     "output_type": "stream",
     "text": [
      "/traindata/maksim/repos/unilm/simlm/src\n"
     ]
    }
   ],
   "source": [
    "import os\n",
    "os.chdir(\"/traindata/maksim/repos/unilm/simlm/src\")\n",
    "!pwd"
   ]
  },
  {
   "cell_type": "code",
   "execution_count": 2,
   "metadata": {},
   "outputs": [
    {
     "data": {
      "text/plain": [
       "True"
      ]
     },
     "execution_count": 2,
     "metadata": {},
     "output_type": "execute_result"
    }
   ],
   "source": [
    "import torch\n",
    "torch.cuda.is_available()"
   ]
  },
  {
   "cell_type": "code",
   "execution_count": 3,
   "metadata": {},
   "outputs": [
    {
     "name": "stderr",
     "output_type": "stream",
     "text": [
      "/traindata/maksim/miniconda3/envs/e5/lib/python3.11/site-packages/tqdm/auto.py:21: TqdmWarning: IProgress not found. Please update jupyter and ipywidgets. See https://ipywidgets.readthedocs.io/en/stable/user_install.html\n",
      "  from .autonotebook import tqdm as notebook_tqdm\n"
     ]
    }
   ],
   "source": [
    "import logging\n",
    "\n",
    "import torch\n",
    "from typing import Dict\n",
    "from transformers.utils.logging import enable_explicit_format\n",
    "from transformers.trainer_callback import PrinterCallback\n",
    "from transformers import (\n",
    "    AutoTokenizer,\n",
    "    HfArgumentParser,\n",
    "    EvalPrediction,\n",
    "    Trainer,\n",
    "    set_seed,\n",
    "    PreTrainedTokenizerFast\n",
    ")\n",
    "\n",
    "from logger_config import logger, LoggerCallback\n",
    "from config import Arguments\n",
    "from trainers.reranker_trainer import RerankerTrainer\n",
    "from loaders import CrossEncoderDataLoader\n",
    "from collators import CrossEncoderCollator\n",
    "from metrics import accuracy\n",
    "from models import Reranker\n",
    "\n",
    "\n",
    "def _common_setup(args: Arguments):\n",
    "    if args.process_index > 0:\n",
    "        logger.setLevel(logging.WARNING)\n",
    "    enable_explicit_format()\n",
    "    set_seed(args.seed)\n",
    "\n",
    "\n",
    "def _compute_metrics(eval_pred: EvalPrediction) -> Dict:\n",
    "    preds = eval_pred.predictions\n",
    "    if isinstance(preds, tuple):\n",
    "        preds = preds[-1]\n",
    "    logits = torch.tensor(preds).float()\n",
    "    labels = torch.tensor(eval_pred.label_ids).long()\n",
    "    acc = accuracy(output=logits, target=labels)[0]\n",
    "\n",
    "    return {'acc': acc}"
   ]
  },
  {
   "cell_type": "code",
   "execution_count": 4,
   "metadata": {},
   "outputs": [],
   "source": [
    "import sys\n",
    "sys.argv = ['src/train_cross_encoder.py', '--deepspeed', '/traindata/maksim/repos/unilm/simlm/ds_config.json', '--model_name_or_path', 'google/electra-base-discriminator', '--per_device_train_batch_size', '2', '--per_device_eval_batch_size', '2', '--gradient_accumulation_steps', '1', '--do_train', '--fp16', '--seed', '987', '--train_file', '/traindata/maksim/repos/unilm/simlm/data/msmarco_reranker/train.jsonl', '--validation_file', '/traindata/maksim/repos/unilm/simlm/data/msmarco_reranker/dev.jsonl', '--rerank_max_length', '192', '--rerank_use_rdrop', 'True', '--train_n_passages', '64', '--rerank_forward_factor', '4', '--dataloader_num_workers', '1', '--num_train_epochs', '3', '--learning_rate', '3e-5', '--warmup_steps', '1000', '--logging_steps', '50', '--output_dir', '/traindata/maksim/repos/unilm/simlm/data/checkpoint/cross_encoder_reranker/', '--data_dir', '/traindata/maksim/repos/unilm/simlm/data/msmarco_reranker/', '--save_total_limit', '5', '--save_strategy', 'epoch', '--evaluation_strategy', 'epoch', '--load_best_model_at_end', '--metric_for_best_model', 'acc', '--greater_is_better', 'True', '--remove_unused_columns', 'False', '--overwrite_output_dir', '--disable_tqdm', 'True', '--report_to', 'none']"
   ]
  },
  {
   "cell_type": "code",
   "execution_count": 5,
   "metadata": {},
   "outputs": [
    {
     "name": "stderr",
     "output_type": "stream",
     "text": [
      "[2024-11-19 12:40:56,083 INFO] Args=Arguments(\n",
      "_n_gpu=8,\n",
      "accelerator_config={'split_batches': False, 'dispatch_batches': None, 'even_batches': True, 'use_seedable_sampler': True, 'gradient_accumulation_kwargs': None},\n",
      "adafactor=False,\n",
      "adam_beta1=0.9,\n",
      "adam_beta2=0.999,\n",
      "adam_epsilon=1e-08,\n",
      "add_pooler=False,\n",
      "all_use_mask_token=<ALL_USE_MASK_TOKEN>,\n",
      "auto_find_batch_size=False,\n",
      "bf16=False,\n",
      "bf16_full_eval=False,\n",
      "data_dir=/traindata/maksim/repos/unilm/simlm/data/msmarco_reranker/,\n",
      "data_seed=None,\n",
      "dataloader_drop_last=False,\n",
      "dataloader_num_workers=1,\n",
      "dataloader_persistent_workers=False,\n",
      "dataloader_pin_memory=True,\n",
      "dataloader_prefetch_factor=None,\n",
      "ddp_backend=None,\n",
      "ddp_broadcast_buffers=None,\n",
      "ddp_bucket_cap_mb=None,\n",
      "ddp_find_unused_parameters=None,\n",
      "ddp_timeout=1800,\n",
      "debug=[],\n",
      "deepspeed=/traindata/maksim/repos/unilm/simlm/ds_config.json,\n",
      "disable_tqdm=True,\n",
      "dispatch_batches=None,\n",
      "do_encode=False,\n",
      "do_eval=True,\n",
      "do_kd_biencoder=False,\n",
      "do_kd_gen_score=False,\n",
      "do_predict=False,\n",
      "do_rerank=False,\n",
      "do_search=False,\n",
      "do_train=True,\n",
      "dry_run=False,\n",
      "encode_batch_size=256,\n",
      "encode_in_path=None,\n",
      "encode_save_dir=None,\n",
      "encode_shard_size=2000000,\n",
      "eval_accumulation_steps=None,\n",
      "eval_delay=0,\n",
      "eval_do_concat_batches=True,\n",
      "eval_steps=None,\n",
      "evaluation_strategy=IntervalStrategy.EPOCH,\n",
      "fp16=True,\n",
      "fp16_backend=auto,\n",
      "fp16_full_eval=False,\n",
      "fp16_opt_level=O1,\n",
      "fsdp=[],\n",
      "fsdp_config={'min_num_params': 0, 'xla': False, 'xla_fsdp_v2': False, 'xla_fsdp_grad_ckpt': False},\n",
      "fsdp_min_num_params=0,\n",
      "fsdp_transformer_layer_cls_to_wrap=None,\n",
      "full_contrastive_loss=True,\n",
      "full_determinism=False,\n",
      "gradient_accumulation_steps=1,\n",
      "gradient_checkpointing=False,\n",
      "gradient_checkpointing_kwargs=None,\n",
      "greater_is_better=True,\n",
      "group_by_length=False,\n",
      "half_precision_backend=auto,\n",
      "hub_always_push=False,\n",
      "hub_model_id=None,\n",
      "hub_private_repo=False,\n",
      "hub_strategy=HubStrategy.EVERY_SAVE,\n",
      "hub_token=<HUB_TOKEN>,\n",
      "ignore_data_skip=False,\n",
      "include_inputs_for_metrics=False,\n",
      "include_num_input_tokens_seen=False,\n",
      "include_tokens_per_second=False,\n",
      "jit_mode_eval=False,\n",
      "kd_cont_loss_weight=1.0,\n",
      "kd_gen_score_batch_size=128,\n",
      "kd_gen_score_n_neg=30,\n",
      "kd_gen_score_split=dev,\n",
      "kd_mask_hn=True,\n",
      "l2_normalize=True,\n",
      "label_names=['labels'],\n",
      "label_smoothing_factor=0.0,\n",
      "learning_rate=3e-05,\n",
      "length_column_name=length,\n",
      "load_best_model_at_end=True,\n",
      "local_rank=0,\n",
      "log_level=passive,\n",
      "log_level_replica=warning,\n",
      "log_on_each_node=True,\n",
      "logging_dir=/traindata/maksim/repos/unilm/simlm/data/checkpoint/cross_encoder_reranker/runs/Nov19_12-40-55_ip-172-19-213-218,\n",
      "logging_first_step=False,\n",
      "logging_nan_inf_filter=True,\n",
      "logging_steps=50,\n",
      "logging_strategy=IntervalStrategy.STEPS,\n",
      "loss_scale=-1.0,\n",
      "lr_scheduler_kwargs={},\n",
      "lr_scheduler_type=SchedulerType.LINEAR,\n",
      "max_grad_norm=1.0,\n",
      "max_steps=-1,\n",
      "max_train_samples=None,\n",
      "metric_for_best_model=acc,\n",
      "model_name_or_path=google/electra-base-discriminator,\n",
      "mp_parameters=,\n",
      "neftune_noise_alpha=None,\n",
      "no_cuda=False,\n",
      "num_train_epochs=3.0,\n",
      "optim=OptimizerNames.ADAMW_TORCH,\n",
      "optim_args=None,\n",
      "optim_target_modules=None,\n",
      "out_dimension=768,\n",
      "output_dir=/traindata/maksim/repos/unilm/simlm/data/checkpoint/cross_encoder_reranker/,\n",
      "overwrite_output_dir=True,\n",
      "p_max_len=144,\n",
      "past_index=-1,\n",
      "per_device_eval_batch_size=2,\n",
      "per_device_train_batch_size=2,\n",
      "prediction_loss_only=False,\n",
      "push_to_hub=False,\n",
      "push_to_hub_model_id=None,\n",
      "push_to_hub_organization=None,\n",
      "push_to_hub_token=<PUSH_TO_HUB_TOKEN>,\n",
      "q_max_len=32,\n",
      "ray_scope=last,\n",
      "remove_unused_columns=False,\n",
      "report_to=[],\n",
      "rerank_batch_size=128,\n",
      "rerank_depth=1000,\n",
      "rerank_forward_factor=4,\n",
      "rerank_in_path=,\n",
      "rerank_max_length=192,\n",
      "rerank_out_path=,\n",
      "rerank_split=dev,\n",
      "rerank_use_rdrop=True,\n",
      "resume_from_checkpoint=None,\n",
      "rlm_decoder_layers=2,\n",
      "rlm_decoder_mask_prob=0.5,\n",
      "rlm_encoder_mask_prob=0.3,\n",
      "rlm_freeze_generator=True,\n",
      "rlm_generator_mlm_weight=0.2,\n",
      "rlm_generator_model_name=google/electra-base-generator,\n",
      "rlm_max_length=144,\n",
      "rlm_num_eval_samples=4096,\n",
      "run_name=/traindata/maksim/repos/unilm/simlm/data/checkpoint/cross_encoder_reranker/,\n",
      "save_on_each_node=False,\n",
      "save_only_model=False,\n",
      "save_safetensors=True,\n",
      "save_steps=500,\n",
      "save_strategy=IntervalStrategy.EPOCH,\n",
      "save_total_limit=5,\n",
      "search_batch_size=128,\n",
      "search_out_dir=,\n",
      "search_split=dev,\n",
      "search_topk=200,\n",
      "seed=987,\n",
      "share_encoder=True,\n",
      "skip_memory_metrics=True,\n",
      "split_batches=None,\n",
      "t=0.05,\n",
      "t_warmup=False,\n",
      "task_type=ir,\n",
      "tf32=None,\n",
      "torch_compile=False,\n",
      "torch_compile_backend=None,\n",
      "torch_compile_mode=None,\n",
      "torchdynamo=None,\n",
      "tpu_metrics_debug=False,\n",
      "tpu_num_cores=None,\n",
      "train_file=/traindata/maksim/repos/unilm/simlm/data/msmarco_reranker/train.jsonl,\n",
      "train_n_passages=64,\n",
      "use_cpu=False,\n",
      "use_first_positive=False,\n",
      "use_ipex=False,\n",
      "use_legacy_prediction_loop=False,\n",
      "use_mps_device=False,\n",
      "use_scaled_loss=True,\n",
      "validation_file=/traindata/maksim/repos/unilm/simlm/data/msmarco_reranker/dev.jsonl,\n",
      "warmup_ratio=0.0,\n",
      "warmup_steps=1000,\n",
      "weight_decay=0.0,\n",
      ")\n",
      "/traindata/maksim/miniconda3/envs/e5/lib/python3.11/site-packages/huggingface_hub/file_download.py:797: FutureWarning: `resume_download` is deprecated and will be removed in version 1.0.0. Downloads always resume when possible. If you want to force a new download, use `force_download=True`.\n",
      "  warnings.warn(\n",
      "[WARNING|modeling_utils.py:4172] 2024-11-19 12:40:57,900 >> Some weights of ElectraForSequenceClassification were not initialized from the model checkpoint at google/electra-base-discriminator and are newly initialized: ['classifier.dense.bias', 'classifier.dense.weight', 'classifier.out_proj.bias', 'classifier.out_proj.weight']\n",
      "You should probably TRAIN this model on a down-stream task to be able to use it for predictions and inference.\n",
      "[2024-11-19 12:40:57,927 INFO] Reranker(\n",
      "  (hf_model): ElectraForSequenceClassification(\n",
      "    (electra): ElectraModel(\n",
      "      (embeddings): ElectraEmbeddings(\n",
      "        (word_embeddings): Embedding(30522, 768, padding_idx=0)\n",
      "        (position_embeddings): Embedding(512, 768)\n",
      "        (token_type_embeddings): Embedding(2, 768)\n",
      "        (LayerNorm): LayerNorm((768,), eps=1e-12, elementwise_affine=True)\n",
      "        (dropout): Dropout(p=0.1, inplace=False)\n",
      "      )\n",
      "      (encoder): ElectraEncoder(\n",
      "        (layer): ModuleList(\n",
      "          (0-11): 12 x ElectraLayer(\n",
      "            (attention): ElectraAttention(\n",
      "              (self): ElectraSelfAttention(\n",
      "                (query): Linear(in_features=768, out_features=768, bias=True)\n",
      "                (key): Linear(in_features=768, out_features=768, bias=True)\n",
      "                (value): Linear(in_features=768, out_features=768, bias=True)\n",
      "                (dropout): Dropout(p=0.1, inplace=False)\n",
      "              )\n",
      "              (output): ElectraSelfOutput(\n",
      "                (dense): Linear(in_features=768, out_features=768, bias=True)\n",
      "                (LayerNorm): LayerNorm((768,), eps=1e-12, elementwise_affine=True)\n",
      "                (dropout): Dropout(p=0.1, inplace=False)\n",
      "              )\n",
      "            )\n",
      "            (intermediate): ElectraIntermediate(\n",
      "              (dense): Linear(in_features=768, out_features=3072, bias=True)\n",
      "              (intermediate_act_fn): GELUActivation()\n",
      "            )\n",
      "            (output): ElectraOutput(\n",
      "              (dense): Linear(in_features=3072, out_features=768, bias=True)\n",
      "              (LayerNorm): LayerNorm((768,), eps=1e-12, elementwise_affine=True)\n",
      "              (dropout): Dropout(p=0.1, inplace=False)\n",
      "            )\n",
      "          )\n",
      "        )\n",
      "      )\n",
      "    )\n",
      "    (classifier): ElectraClassificationHead(\n",
      "      (dense): Linear(in_features=768, out_features=768, bias=True)\n",
      "      (activation): GELUActivation()\n",
      "      (dropout): Dropout(p=0.1, inplace=False)\n",
      "      (out_proj): Linear(in_features=768, out_features=1, bias=True)\n",
      "    )\n",
      "  )\n",
      "  (cross_entropy): CrossEntropyLoss()\n",
      "  (kl_loss_fn): KLDivLoss()\n",
      ")\n",
      "[2024-11-19 12:40:57,932 INFO] Vocab size: 30522\n",
      "[2024-11-19 12:41:00,075 INFO] Sample 279316 of the training set: {'query_id': '347969', 'query': 'how to care for goji berry plants', 'positives': {'doc_id': ['4386741'], 'score': [0.722]}, 'negatives': {'doc_id': ['6373673', '5715578', '2399152', '1493226', '8505589', '5710599', '8793842', '7968842', '8753336', '3457762', '2472866', '4763392', '1053062', '2472867', '5713666', '2602980', '6761064', '3193741', '4386739', '5713667', '4386745', '8422567', '6093194', '5023369', '8505587', '741847', '3092641', '455850', '2762895', '4533291', '7968845', '741850', '2481591', '4291828', '2674810', '3460638', '5142056', '4533296', '5407632', '3460637', '3326299', '27328', '5715575', '7298123', '27330', '2300950', '6761067', '3457755', '5713664', '3092642', '6526679', '4533288', '7298116', '3460630', '7669072', '4533287', '27329', '4763391', '7298115', '6761062', '5005719', '4763398', '1390508', '3460639', '5713662', '2762892', '4533293', '4756807', '27334', '7968847', '2680853', '1228431', '3460633', '7968848', '7298118', '4386747', '904647', '2920985', '3460632', '7528228', '3460635', '7968846', '4533295', '904649', '6761063', '3566901', '6327835', '5522939', '4386748', '6327831', '999789', '3457758', '4386742', '5715579', '5369659', '2137524', '3722580', '2472861', '5713663', '27335', '6215434', '2472865', '8117237', '4577169', '8706938', '7298122', '3193736', '674008', '5645294', '8793840', '5715580', '741845', '3775645', '6327829', '3437109', '3092643', '8597363', '5710601', '2472859', '3976799', '8201926', '4046304', '4763395', '3735347', '1042729', '6327828', '5142059', '4386740', '7968844', '5713668', '6761058', '3402386', '1493225', '2481587', '5522943', '6788331', '3460634', '8200345', '2481583', '7528229', '4701778', '3457760', '6761059', '517636', '4763390', '5715576', '3722586', '3735342', '1652191', '811047', '5409701', '4386746', '2472868', '2472863', '8495239', '6164756', '5142058', '5507846', '5710602', '4454264', '7298119', '3092644', '3457753', '4720224', '6913177', '4051248', '1065410', '8320502', '5319670', '4533292', '5501163', '2095736', '6327833', '27337', '27336', '7394095', '4386743', '2655276', '6996242', '3457754', '5522941', '1310974', '2472864', '3092647', '7257895', '2472860', '4533290', '3128332', '5501161', '2721028', '4046299', '8305876', '7045918', '7968849', '5522935', '6157241', '4533289', '5715577', '1042731', '2472862', '7753943', '4763399', '6327830', '7298117', '27331', '7909373', '7968843', '4533294', '4386744', '5522942'], 'score': [0.594, 0.659, 0.598, 0.611, 0.613, 0.656, 0.605, 0.602, 0.616, 0.666, 0.667, 0.634, 0.595, 0.655, 0.634, 0.652, 0.652, 0.606, 0.634, 0.611, 0.725, 0.634, -1.0, 0.612, 0.605, 0.615, 0.609, -1.0, 0.608, 0.652, 0.687, 0.614, 0.596, -1.0, -1.0, 0.656, 0.601, 0.673, 0.597, 0.637, 0.596, 0.603, 0.602, 0.596, 0.647, 0.672, 0.607, 0.656, 0.639, 0.596, 0.594, 0.661, 0.619, 0.647, 0.605, 0.667, 0.646, 0.624, 0.645, 0.596, 0.595, 0.654, -1.0, 0.661, 0.646, 0.618, 0.659, 0.61, 0.675, 0.631, 0.609, 0.594, 0.658, 0.676, 0.614, 0.742, 0.703, 0.6, 0.63, 0.599, 0.651, 0.649, 0.639, 0.64, 0.61, 0.604, 0.621, 0.638, 0.821, 0.601, 0.596, 0.732, 0.76, 0.659, 0.602, 0.602, 0.6, 0.613, 0.649, 0.635, 0.595, 0.654, -1.0, -1.0, 0.607, 0.617, 0.603, 0.615, 0.631, 0.6, 0.652, 0.618, 0.607, 0.642, 0.597, 0.611, -1.0, 0.681, 0.703, 0.595, 0.607, 0.598, 0.61, 0.653, 0.609, 0.645, 0.6, 0.767, 0.637, 0.608, 0.608, 0.607, 0.605, 0.605, 0.615, 0.633, 0.643, -1.0, 0.594, 0.606, 0.608, 0.695, 0.623, -1.0, 0.638, 0.643, 0.621, 0.679, 0.606, 0.596, 0.597, 0.778, 0.641, 0.626, 0.596, 0.596, 0.595, 0.599, 0.661, 0.606, 0.603, 0.601, 0.62, 0.609, 0.594, 0.631, 0.64, 0.607, 0.598, 0.669, 0.625, 0.595, 0.627, 0.646, 0.705, 0.599, 0.732, 0.609, -1.0, 0.636, 0.615, 0.61, 0.731, 0.602, 0.603, 0.672, 0.612, 0.598, 0.599, 0.599, 0.606, 0.606, 0.597, 0.646, 0.605, 0.598, 0.653, 0.678, 0.615, 0.707, 0.598, 0.652, 0.649, 0.61, 0.679, 0.617, 0.671, 0.668, 0.737, 0.61]}}.\n",
      "[2024-11-19 12:41:00,085 INFO] Sample 449298 of the training set: {'query_id': '38587', 'query': 'average litter of raccoon', 'positives': {'doc_id': ['6655089'], 'score': [0.783]}, 'negatives': {'doc_id': ['3216313', '904252', '346055', '1220156', '7474953', '6097076', '893245', '904254', '5564029', '374202', '7066402', '5365897', '3845996', '4038304', '5949021', '4256924', '2097987', '6975755', '5829414', '5984999', '5985000', '3543192', '5829416', '3577967', '7732904', '5306113', '6655092', '5601042', '4060904', '4038305', '6203867', '682540', '719351', '2559434', '5985001', '3616438', '5984998', '4551471', '3814309', '4551470', '682535', '6335441', '1737220', '6097071', '2827222', '5949027', '6383690', '3429191', '6995717', '7066399', '3252789', '8802970', '4060912', '4562396', '5631671', '2468606', '2815837', '3577964', '5538657', '904251', '8802972', '4038308', '5306116', '6318534', '1737219', '4038309', '8725081', '3543189', '6995720', '1680397', '8725084', '716716', '4771133', '5829415', '2559438', '1422113', '3897997', '6655087', '2568384', '6312104', '2392313', '260123', '5100498', '3479643', '1422112', '7066403', '4038306', '3136227', '5416737', '7732908', '7066398', '5446568', '5985004', '1541116', '5016666', '8224384', '1220155', '7716134', '719350', '6097078', '5984996', '2870004', '5949025', '1819351', '432282', '7625785', '8224389', '4409358', '6203869', '260125', '4417440', '6818575', '8725082', '3814305', '8725083', '5829421', '3252788', '4060905', '2201200', '5199305', '5306114', '3616440', '1270947', '5984997', '1260888', '3577970', '3095809', '1260885', '6988098', '1737215', '7474954', '682538', '5949023', '2497609', '7254648', '1593351', '3177369', '7783001', '5416736', '6498935', '8513459', '3577971', '2842597', '3857701', '3543191', '8037872', '3543188', '8081645', '3429187', '2950584', '6097072', '2257856', '4973866', '4038311', '438913', '4023933', '4060910', '5507178', '4687273', '1593355', '5306117', '4245152', '5829422', '4213538', '6097070', '7066400', '7625782', '6412202', '4498022', '2097988', '6786353', '6440160', '8040969', '3216310', '6203866', '2251547', '3043144', '3845990', '8670275', '3216309', '4023930', '1757277', '7474958', '7732911', '2929060', '6453215', '7732905', '649750', '2815840', '3216312', '4124119', '8670274', '3216308', '904256', '4687272', '2815842', '5672679', '3616441', '6867646', '4038310', '6412205', '432279', '7732906', '432275', '2933875', '2950581', '432274', '4165143', '4082513', '3109780'], 'score': [0.638, 0.649, 0.639, 0.626, 0.634, 0.624, 0.631, 0.645, 0.654, 0.666, 0.678, 0.696, 0.651, 0.647, 0.646, 0.638, 0.674, 0.634, 0.667, 0.729, 0.717, 0.64, 0.655, 0.629, 0.734, 0.639, 0.817, -1.0, 0.637, 0.695, 0.637, 0.633, 0.627, 0.634, 0.678, 0.766, 0.692, 0.631, 0.668, 0.645, 0.631, 0.653, 0.684, 0.666, 0.644, 0.625, 0.642, 0.643, 0.633, 0.652, 0.64, 0.686, 0.696, 0.626, 0.626, 0.627, 0.643, 0.647, 0.626, 0.639, 0.639, 0.648, 0.729, 0.624, 0.633, 0.674, 0.632, 0.659, 0.646, 0.636, 0.734, 0.639, 0.631, 0.674, 0.659, 0.625, 0.627, 0.676, 0.639, 0.639, 0.638, 0.671, -1.0, 0.631, 0.641, 0.815, 0.644, 0.624, 0.644, 0.675, 0.631, 0.667, 0.661, 0.654, 0.633, 0.655, 0.624, 0.662, 0.624, 0.697, 0.741, 0.656, 0.634, 0.64, 0.638, 0.637, 0.63, 0.646, 0.635, 0.646, 0.633, 0.698, 0.63, 0.669, 0.732, 0.671, 0.659, 0.726, 0.681, 0.655, 0.765, 0.749, 0.651, 0.645, 0.637, 0.681, 0.662, 0.626, 0.64, 0.673, 0.625, 0.651, 0.624, 0.651, 0.638, 0.668, 0.64, -1.0, 0.646, 0.632, -1.0, 0.624, 0.633, 0.644, 0.634, 0.67, 0.625, -1.0, 0.631, 0.66, 0.685, 0.636, 0.723, 0.652, 0.624, 0.624, 0.649, -1.0, 0.648, 0.629, 0.642, 0.632, 0.636, 0.624, 0.681, 0.641, 0.663, 0.64, 0.64, 0.679, 0.772, 0.648, 0.651, 0.632, 0.641, -1.0, -1.0, 0.752, 0.708, 0.627, 0.677, 0.659, 0.626, 0.746, 0.686, 0.635, 0.691, 0.659, 0.628, 0.642, 0.624, 0.638, 0.642, 0.654, 0.633, 0.627, 0.639, 0.663, -1.0, 0.641, 0.645, 0.661, 0.65, 0.647, -1.0, 0.641, 0.644, 0.652, -1.0, 0.636]}}.\n",
      "[2024-11-19 12:41:00,098 INFO] Sample 277251 of the training set: {'query_id': '982333', 'query': 'where is estrogen produced', 'positives': {'doc_id': ['4356681'], 'score': [0.778]}, 'negatives': {'doc_id': ['421917', '6986241', '1591539', '250500', '5982652', '378373', '8664090', '3938785', '5847670', '3275794', '7653152', '6778280', '7864901', '7864903', '1607089', '7188843', '494165', '5646224', '4507370', '8625450', '3032826', '3541224', '1591544', '3317448', '4250054', '384968', '2365779', '3089877', '3907606', '5368058', '577030', '6920737', '7864900', '4356685', '1220359', '4356684', '1410206', '1607093', '2228873', '1504137', '6521792', '8642997', '5982656', '5019149', '2567828', '6778278', '7522216', '4356688', '6498867', '4356686', '2493150', '5025396', '3441378', '345750', '4378487', '4235626', '6435345', '1220350', '6435351', '5685205', '1951916', '4391595', '6202400', '968330', '3867560', '7902070', '254460', '2372000', '5319330', '3722347', '4205067', '2978895', '4685739', '5066933', '8116723', '384971', '2575533', '516336', '8575665', '7864899', '1220351', '1089841', '1089845', '8660470', '3575683', '7666814', '4235628', '225934', '373183', '3098077', '7156635', '5982655', '4110092', '3097822', '873759', '5359914', '5685212', '576142', '3032833', '3722346', '1220358', '3956199', '456412', '5234813', '525488', '3441379', '1103930', '1220355', '944256', '4356680', '1607088', '7156640', '3259031', '8286848', '4497105', '5616359', '8116722', '6054147', '8819181', '3441372', '4226283', '2365773', '8049679', '373180', '2228871', '6435346', '483730', '3514113', '3972143', '922484', '3907608', '7580799', '4510963', '6920732', '2365776', '3003631', '321334', '7817989', '4356687', '771727', '1591538', '98586', '5379498', '2228874', '2365775', '3674862', '516328', '8664095', '4356679', '1428622', '1100279', '7864904', '5982653', '3622707', '8116720', '3089875', '1550664', '7506201', '8664091', '5307144', '5982657', '4356682', '1089837', '8742525', '5685211', '2365771', '6443179', '7556053', '3722350', '4779836', '2495779', '1607094', '1607091', '5319329', '5735186', '3441371', '6044888', '1438074', '173345', '1723081', '8664096', '6498862', '350156', '483728', '4205068', '4497104', '2365777', '1001874', '7522214', '2365774', '5288122', '5777338', '4339661', '2365772', '1951921', '5982654', '7864902', '7156637', '2228872', '579275', '4641537', '237751', '5104411', '6109908', '5589188', '5685208', '7123193', '4989371', '8495832', '5368062'], 'score': [0.735, 0.738, 0.726, 0.749, 0.825, 0.723, 0.775, 0.728, 0.745, 0.734, 0.728, 0.733, 0.778, 0.755, 0.751, 0.73, 0.739, -1.0, 0.777, 0.725, 0.733, 0.75, 0.722, 0.722, 0.73, 0.785, 0.752, 0.725, 0.745, 0.729, 0.765, 0.768, 0.765, 0.722, 0.767, 0.747, 0.744, 0.811, 0.729, 0.75, 0.759, 0.73, 0.776, 0.736, -1.0, 0.764, 0.771, 0.741, 0.798, 0.75, 0.785, 0.728, 0.751, 0.733, 0.732, 0.725, 0.728, 0.773, 0.769, 0.769, 0.745, -1.0, 0.729, 0.757, 0.804, 0.745, 0.747, 0.788, 0.753, 0.739, 0.73, 0.785, 0.76, 0.726, 0.733, 0.769, 0.729, 0.744, 0.738, 0.82, 0.791, 0.761, 0.738, 0.756, 0.756, -1.0, 0.766, 0.723, 0.736, -1.0, 0.788, 0.81, 0.725, 0.747, 0.723, 0.732, 0.745, -1.0, 0.762, 0.734, 0.8, 0.747, 0.731, 0.724, 0.731, 0.762, 0.731, 0.765, 0.749, 0.745, 0.767, 0.747, 0.784, 0.768, 0.783, 0.729, 0.748, -1.0, 0.764, 0.756, -1.0, 0.775, 0.744, 0.759, 0.781, 0.744, 0.756, 0.722, 0.741, 0.725, 0.741, 0.731, 0.741, 0.726, 0.794, 0.732, 0.784, 0.733, 0.772, 0.737, 0.733, 0.767, 0.722, 0.735, 0.734, 0.756, 0.728, 0.807, 0.824, 0.763, 0.723, 0.757, 0.773, 0.782, 0.764, 0.729, 0.774, 0.772, 0.737, -1.0, 0.735, 0.785, 0.732, 0.727, 0.758, 0.771, 0.742, 0.748, 0.725, 0.723, -1.0, 0.74, 0.785, 0.738, 0.754, 0.737, 0.786, 0.73, 0.752, 0.731, 0.738, 0.741, 0.758, 0.732, 0.763, 0.745, 0.763, 0.735, 0.76, 0.771, 0.728, 0.736, 0.767, 0.797, 0.735, 0.779, 0.748, 0.735, 0.763, 0.755, -1.0, 0.758, 0.723, 0.727, 0.722, 0.836, 0.756, 0.727, 0.75, 0.742]}}.\n",
      "/traindata/maksim/miniconda3/envs/e5/lib/python3.11/site-packages/transformers/deepspeed.py:23: FutureWarning: transformers.deepspeed module is deprecated and will be removed in a future version. Please import deepspeed modules directly from transformers.integrations\n",
      "  warnings.warn(\n"
     ]
    }
   ],
   "source": [
    "parser = HfArgumentParser((Arguments,))\n",
    "args: Arguments = parser.parse_args_into_dataclasses()[0]\n",
    "_common_setup(args)\n",
    "logger.info('Args={}'.format(str(args)))\n",
    "\n",
    "tokenizer: PreTrainedTokenizerFast = AutoTokenizer.from_pretrained(args.model_name_or_path)\n",
    "\n",
    "model: Reranker = Reranker.from_pretrained(\n",
    "    all_args=args,\n",
    "    pretrained_model_name_or_path=args.model_name_or_path,\n",
    "    num_labels=1)\n",
    "\n",
    "logger.info(model)\n",
    "logger.info('Vocab size: {}'.format(len(tokenizer)))\n",
    "\n",
    "data_collator = CrossEncoderCollator(\n",
    "    tokenizer=tokenizer,\n",
    "    pad_to_multiple_of=8 if args.fp16 else None)\n",
    "\n",
    "rerank_data_loader = CrossEncoderDataLoader(args=args, tokenizer=tokenizer)\n",
    "train_dataset = rerank_data_loader.train_dataset\n",
    "eval_dataset = rerank_data_loader.eval_dataset\n",
    "\n",
    "trainer: Trainer = RerankerTrainer(\n",
    "    model=model,\n",
    "    args=args,\n",
    "    train_dataset=train_dataset if args.do_train else None,\n",
    "    eval_dataset=eval_dataset if args.do_eval else None,\n",
    "    data_collator=data_collator,\n",
    "    compute_metrics=_compute_metrics,\n",
    "    tokenizer=tokenizer,\n",
    ")\n",
    "trainer.remove_callback(PrinterCallback)\n",
    "trainer.add_callback(LoggerCallback)\n",
    "rerank_data_loader.trainer = trainer"
   ]
  },
  {
   "cell_type": "code",
   "execution_count": 6,
   "metadata": {},
   "outputs": [
    {
     "data": {
      "text/plain": [
       "['input_ids', 'token_type_ids', 'attention_mask']"
      ]
     },
     "execution_count": 6,
     "metadata": {},
     "output_type": "execute_result"
    }
   ],
   "source": [
    "example = train_dataset[0]\n",
    "list(example.keys())"
   ]
  },
  {
   "cell_type": "code",
   "execution_count": 7,
   "metadata": {},
   "outputs": [
    {
     "data": {
      "text/plain": [
       "(64, 72)"
      ]
     },
     "execution_count": 7,
     "metadata": {},
     "output_type": "execute_result"
    }
   ],
   "source": [
    "len(example['input_ids']), len(example['input_ids'][0])"
   ]
  },
  {
   "cell_type": "code",
   "execution_count": 8,
   "metadata": {},
   "outputs": [
    {
     "data": {
      "text/plain": [
       "'[CLS] ) what was the immediate impact of the success of the manhattan project? [SEP] introduction : the presence of communication amid scientific minds was equally important to the success of the manhattan project as scientific intellect was. the only cloud hanging over the impressive achievement of the atomic researchers and engineers is what their success truly meant ; hundreds of thousands of innocent lives obliterated. [SEP]'"
      ]
     },
     "execution_count": 8,
     "metadata": {},
     "output_type": "execute_result"
    }
   ],
   "source": [
    "from transformers import AutoTokenizer\n",
    "tokenizer = AutoTokenizer.from_pretrained(args.model_name_or_path)\n",
    "tokenizer.decode(example[\"input_ids\"][0])\n",
    "\n"
   ]
  },
  {
   "cell_type": "code",
   "execution_count": 9,
   "metadata": {},
   "outputs": [
    {
     "name": "stdout",
     "output_type": "stream",
     "text": [
      "[CLS] ) what was the immediate impact of the success of the manhattan project? [SEP] introduction : the presence of communication amid scientific minds was equally important to the success of the manhattan project as scientific intellect was. the only cloud hanging over the impressive achievement of the atomic researchers and engineers is what their success truly meant ; hundreds of thousands of innocent lives obliterated. [SEP]\n",
      "[CLS] ) what was the immediate impact of the success of the manhattan project? [SEP] introduction : abstract. the pivotal engineering and scientific success of the twentieth century was the manhattan project. the manhattan project assimilated concepts and leaders from all scientific fields and engineering disciplines to construct the first two atomic bombs. [SEP]\n",
      "[CLS] ) what was the immediate impact of the success of the manhattan project? [SEP] truman is briefed on manhattan project : america ’ s secret development of the atomic bomb began in 1939 with then - president franklin roosevelt ’ s support. the project was so secret that fdr did not even inform his fourth - term vice president, truman, that it existed. [SEP]\n",
      "[CLS] ) what was the immediate impact of the success of the manhattan project? [SEP] the manhattan project - - its story : the manhattan project - - its operations. major operations for the manhattan engineer district ( manhattan project ) took place in remote site locations in the states of tennessee, new mexico, and washington, with additional research being conducted in university laboratories at chicago and berkeley. [SEP]\n",
      "[CLS] ) what was the immediate impact of the success of the manhattan project? [SEP] - : meanwhile, president truman was told of the successful test of the manhattan project ( atomic bomb ) in alamogordo, new mexico on jul 16, 1945. diary of president truman of jul 18, 1945 shows discussed manhattan ( it is a success ). decided to tell stalin about it. he atomic bomb and powssaving us prisoners of war was not the primary concern. to invade a country like japan would have cost hundreds of thousands of lives and it would have … devastated the country and its infastructure. [SEP]\n",
      "[CLS] ) what was the immediate impact of the success of the manhattan project? [SEP] - : manhattan project. 1 the manhattan project was a secret military project created in 1942 to produce the first us nuclear weapon. fears that nazi germany would build and use a nuclear weapon during world war ii triggered the start of the manhattan project, which was originally based in manhattan, new york. [SEP]\n",
      "[CLS] ) what was the immediate impact of the success of the manhattan project? [SEP] how the manhattan project worked : the discovery of nuclear fission. to get to the manhattan project and the bombings of hiroshima and nagasaki, it helps to understand the advancements made in physics leading up to world war ii. between 1919 and the early 1930s, scientists were piecing together the important parts of the atom's structure. [SEP]\n",
      "[CLS] ) what was the immediate impact of the success of the manhattan project? [SEP] - : what caused the project. - the manhattan project was a secret military project created in 1942 to produce the first us nuclear weapon. - fears that nazi germany would build and use a nuclear weapon during world war ii triggered the start of the manhattan project, which was originally based in manhattan, new york. [SEP]\n",
      "[CLS] ) what was the immediate impact of the success of the manhattan project? [SEP] - : the manhattan project : making the atomic bomb is a short history of the origins and development of the american atomic bomb program during world war ii. [SEP]\n",
      "[CLS] ) what was the immediate impact of the success of the manhattan project? [SEP] apush unit 14 : the manhattan project was a secret research and development project of the u. s to develop the atomic bomb. its success granted the u. s the bombs that ended the war with japan as well as ushering the country into the atomic era. [SEP]\n",
      "[CLS] ) what was the immediate impact of the success of the manhattan project? [SEP] what was the purpose of the manhattan project? : the manhattan project was an initiative undertaken by president franklin roosevelt, to build an atomic bomb. it was going to be used against nazi germany, supposedly only if they developed nuclear weapons ( which of course was a a great fear at the time ). [SEP]\n",
      "[CLS] ) what was the immediate impact of the success of the manhattan project? [SEP] - : the manhattan project and its atomic bomb helped bring an end to world war ii. its legacy of peaceful uses of atomic energy continues to have an impact on history and science. [SEP]\n",
      "[CLS] ) what was the immediate impact of the success of the manhattan project? [SEP] the manhattan project : photo : fdr library archives. when einstein learned that the germans might succeed in solving these problems, he wrote to president franklin roosevelt with his concerns. einstein's 1939 letter helped initiate the u. s. effort to build an atomic bomb, but work proceeded slowly at first. [SEP]\n",
      "[CLS] ) what was the immediate impact of the success of the manhattan project? [SEP] the manhattan project : the manhattan project introduction the events surrounding the invention and use of two atomic weapons by the united states on japan during wwii are among the most controversial and significant developments in modern american history. [SEP]\n",
      "[CLS] ) what was the immediate impact of the success of the manhattan project? [SEP] vanilla lizard history class 4. 8675309 : has not been affected by the economic impact of the fall of communism in europe and the soviet union. provided help only for the large ranchers and owners of sugar plantations. achieved notable success in programs related to health and education. ended cuba's reliance on sugar production. [SEP]\n",
      "[CLS] ) what was the immediate impact of the success of the manhattan project? [SEP] why did the manhattan project began? : the manhattan project was the top secret military endeavor to build, and detonate the first atomic bomb. it was based at los alamos, new mexico and headed by dr. j. robert … oppenheimer. [SEP]\n",
      "[CLS] ) what was the immediate impact of the success of the manhattan project? [SEP] the manhattan project - - its story : the manhattan project - - its background. this year is the 70th anniversary of the establishment of the manhattan project, a predecessor of the u. s. department of energy. to honor its impacts on science and history, various aspects of its background, establishment, operations, and immediate and long - term influences will be revisited. [SEP]\n",
      "[CLS] ) what was the immediate impact of the success of the manhattan project? [SEP] - : general leslie groves, the army officer in charge of the bomb project wanted oppenheimer to be the scientific director of the program, despite what he would call the snag of oppenheimer's political past. after the war, he explained why : he's a genius. a real genius... why, oppenheimer knows about everything. [SEP]\n",
      "[CLS] ) what was the immediate impact of the success of the manhattan project? [SEP] the manhattan project : the manhattan project. world war ii started on september 1 1939, when germany attacked poland. by 1941, the germans were ahead in the race for the atomic bomb. they had a heavy - water plant, high - grade uranium compounds, capable scientists and engineers, and the greatest chemical engineering industry in the world. he program that developed the atomic bomb for the united states during world war ii was the largest secret project ever undertaken by the u. s. government. the project was originally named development of substitute materials, but there was concern that the name was too suggestive of its real purpose. [SEP]\n",
      "[CLS] ) what was the immediate impact of the success of the manhattan project? [SEP] - : what was the manhattan project? many of the manhattan project scientists left europe when adolph hitler came to power. a replica of the fat man atomic bomb developed with technology from the manhattan project. hydrogen bombs were later developed by many of the scientists who worked on the manhattan project. a letter written by albert einstein helped pursuade president franklin d. roosevelt to support the manhattan project. [SEP]\n",
      "[CLS] ) what was the immediate impact of the success of the manhattan project? [SEP] - : evaluating the success of the new deal - evaluating the success of the new deal after the great depression america elected roosevelt to be the president hoping he would get them away from the depression which was effecting nearly everyone at the time. he success of the new deal - the success of the new deal was the new deal a success. the new deal was a success felt by many americans, there was prosperity and for the first time hope for a better future. [SEP]\n",
      "[CLS] ) what was the immediate impact of the success of the manhattan project? [SEP] manhattan project background information and preservation work : on july 16, 2013, the 68th anniversary of the trinity test of the world's first nuclear weapon, the department launched the manhattan project : resources, a web - based, joint collaboration between the department ’ s office of classification and office of history and heritage resources. [SEP]\n",
      "[CLS] ) what was the immediate impact of the success of the manhattan project? [SEP] the manhattan project : in december 1941, the government launched the manhattan project, the scientific and military undertaking to develop the bomb. a letter to the president. in august 1939, einstein wrote to u. s. president franklin roosevelt to warn him that the nazis were working on a new and powerful weapon : an atomic bomb. fellow physicist leo szilard urged einstein to send the letter and helped him draft it. einstein : a security risk [SEP]\n",
      "[CLS] ) what was the immediate impact of the success of the manhattan project? [SEP] what is the manhattan project? : the manhattan project was the top secret military endeavor to build, and detonate the first atomic bomb. it was based at los alamos, new mexico and headed by dr. j. robert … oppenheimer. born out of a small research program in 1939, the manhattan project eventually employed more than 130, 000 people and cost nearly $ 2 billion usd ( $ 23 billion in 2007 dollars based on cpi ). it resulted in the creation of multiple production and research sites that operated in secret. [SEP]\n",
      "[CLS] ) what was the immediate impact of the success of the manhattan project? [SEP] manhattan project : groves appreciated the early british atomic research and the british scientists'contributions to the manhattan project, but stated that the united states would have succeeded without them. he also said that churchill was the best friend the atomic bomb project had [ as ] he kept roosevelt's interest up... ollowing a domestic debate over the permanent management of the nuclear program, the united states atomic energy commission ( aec ) was created by the atomic energy act of 1946 to take over the functions and assets of the manhattan project. [SEP]\n",
      "[CLS] ) what was the immediate impact of the success of the manhattan project? [SEP] blackmailed by the bomb : nuclear anxiety and the cult of the superweapon : in august of 1943, j. robert oppenheimer, the scientific director of the manhattan project, wrote, “ it is possible that the german will have, by the end of this year, enough material accumulated to make a large number of gadgets [ atomic bombs ] which they will release at the same time on england, russia, and this country ” ( ford 212 ). [SEP]\n",
      "[CLS] ) what was the immediate impact of the success of the manhattan project? [SEP] atomic glossary : the manhattan project was the code name for america's atomic bomb development efforts during world war ii. its name originated from the fact that it was part of the u. s. army corps of engineers and organized under the manhattan engineer district ( med ) in new york city. [SEP]\n",
      "[CLS] ) what was the immediate impact of the success of the manhattan project? [SEP] what was the purpose of the manhattan project? : the manhattan project. the manhattan project was a research and development program, led by the united states with participation from the united kingdom and canada, that produced the first atomic bomb during world war ii. it was also charged with gathering intelligence on the german nuclear energy project. [SEP]\n",
      "[CLS] ) what was the immediate impact of the success of the manhattan project? [SEP] holocauste literature : meanwhile, president truman was told of the successful test of the manhattan project ( atomic bomb ) in alamogordo, new mexico on jul 16, 1945. diary of president truman of jul 18, 1945 shows discussed manhattan ( it is a success ). t the end of world war ii, few questioned truman's decision to drop the atomic bombs on hiroshima and nagasaki. most americans accepted the obvious reasoning : the atomic bomb … ings brought the war to a more timely end. [SEP]\n",
      "[CLS] ) what was the immediate impact of the success of the manhattan project? [SEP] - : in nearly all areas ( with the exception of provision in the community ), olass. was considered to have brought about ‘ some ’ or ‘ much improvement ’ by over. half of interviewees. in addition, when given the chance to freely nominate. the main impact of olass, the majority of interviewees ( 41 out of 51 ) [SEP]\n",
      "[CLS] ) what was the immediate impact of the success of the manhattan project? [SEP] the launch of sputnik, 1957 : the success of sputnik had a major impact on the cold war and the united states. fear that they had fallen behind led u. s. policymakers to accelerate space and weapons programs. [SEP]\n",
      "[CLS] ) what was the immediate impact of the success of the manhattan project? [SEP] - : truman believed that the bombs saved japanese lives as well. prolonging the war was not an option for the president. over 3, 500 japanese kamikaze raids had already wrought great destruction and loss of american lives. the president rejected a demonstration of the atomic bomb to the japanese leadership. [SEP]\n",
      "[CLS] ) what was the immediate impact of the success of the manhattan project? [SEP] - : on august 6, 1945, the world ( unfortunately ) entered the atomic age. without warning, a single nuclear bomb on the japanese city of hiroshima killed about 90, 000 people instantly and injured many others – who then died from radiation sickness. ishiuan. i think the reason why they dropped the bomb on japan is simply because they can. and why they can do that was because the whole manhattan project was designed to create nuclear weapons to prevent the axis created it first. of course it was meant to be used on one of them, and logically, they should. [SEP]\n",
      "[CLS] ) what was the immediate impact of the success of the manhattan project? [SEP] - : the manhattan project was a secret military project created in 1942 to produce the first us nuclear weapon. fears that nazi germany would build and use a nuclear weapon during world war ii triggered the start of the manhattan project, which was originally based in manhattan, new york. [SEP]\n",
      "[CLS] ) what was the immediate impact of the success of the manhattan project? [SEP] the manhattan project : how it developed. - under the auspices of the manhattan project, three main research and production facilities were established at oak ridge, tennessee ; at hanford, washington ; and at los alamos, new mexico. - the oak ridge laboratories provided uranium - 235. [SEP]\n",
      "[CLS] ) what was the immediate impact of the success of the manhattan project? [SEP] - : through sources in the manhattan project, notably klaus fuchs, the soviet intelligence obtained important information on the progress of the united states atomic bomb effort. intelligence reports were shown to the head of the soviet atomic project and had a significant impact on the direction of soviet research. he soviets accelerated the program after the american atomic bombings of hiroshima and nagasaki. the soviet atomic project was charged with gathering intelligence on the german nuclear energy project as well as the american nuclear efforts. [SEP]\n",
      "[CLS] ) what was the immediate impact of the success of the manhattan project? [SEP] lasting effects of the new deal : we can look at both short - term and long - term effects of the new deal. in the short term, the new deal helped to reduce the severity of the great depression. it gave money to the poor and made jobs for many people. it did not end the depression, but it helped make things better than they had been. the major long - term effect of the new deal was to get the government involved in many more aspects of american life. it helped allow the government to do things like providing pensions for retired people ( social security ) and guaranteeing bank deposits ( fdic ). these were things the government had never done before. [SEP]\n",
      "[CLS] ) what was the immediate impact of the success of the manhattan project? [SEP] the atomic bomb : the desert test by july, 1945 the manhattan project work was almost completed ; they had developed a working nuclear bomb. the only obstacle that stood in their way is the actual testing of the bomb. the test, code name trinity occurred on july 16, 1945 in the new mexico desert town of alamogordo. [SEP]\n",
      "[CLS] ) what was the immediate impact of the success of the manhattan project? [SEP] manhattan project : manhattan project. the manhattan project was a research and development undertaking during world war ii that produced the first nuclear weapons. it was led by the united states with the support of the united kingdom and canada. from 1942 to 1946, the project was under the direction of major general leslie groves of the u. s. army corps of engineers. nuclear physicist robert oppenheimer was the director of the los alamos laboratory that designed the actual bombs. the army component of the project was designated the [SEP]\n",
      "[CLS] ) what was the immediate impact of the success of the manhattan project? [SEP] introduction : while communication led to the overall scientific triumph of the manhattan project, an intentional lack of communication between military and government superiors and the los alamos laboratory led to one of the most devastating moral disasters of the twentieth century. [SEP]\n",
      "[CLS] ) what was the immediate impact of the success of the manhattan project? [SEP] what was the purpose of the manhattan project? : best answer : the manhattan project was headed by oppenheimer who led 130, 000 people in 30 bases in the usa canada and the uk the project was setup by the usa with the approval of canada and the usa to build nuclear weapons at one point in the process there was a meeting between fdr churchill and king where they agreed not to use the devices against each other... [SEP]\n",
      "[CLS] ) what was the immediate impact of the success of the manhattan project? [SEP] 18 interesting facts about the manhattan project : “ development of substitute materials ” was the name given to the project initially but very soon, they realized that this name would be evocative of its real purpose. as the program began under the manhattan engineering district so eventually it became the manhattan project. source : u - s - history. com. 12. british ’ s role in the project [SEP]\n",
      "[CLS] ) what was the immediate impact of the success of the manhattan project? [SEP] manhattan project : the manhattan project was an epic, secret, wartime effort to design and build the world's first nuclear weapon. commanding the efforts of the world's greatest physicists and mathematicians during world war ii, the $ 20 billion project resulted in the production of the first uranium and plutonium bombs. anhattan project, the wartime effort to design and build the first nuclear weapons ( atomic bombs ). with the discovery of fission in 1939, it became clear to scientists that certain radioactive materials could be used to make a bomb of unprecented power. [SEP]\n",
      "[CLS] ) what was the immediate impact of the success of the manhattan project? [SEP] which one of the roosevelt new deal programs had the biggest impact in the u. s. and why? explain!? : best answer : social security. it is the largest socail program in united states history. signed into law in 1935, it still exists today. the immediate effects were quite positive : it helped lower the poverty rate of senior citizens, which had been well over 50 % during the depression. [SEP]\n",
      "[CLS] ) what was the immediate impact of the success of the manhattan project? [SEP] manhattan project : the manhattan project was an effort during world war ii in the united states to develop the first nuclear weapon. it was directed by american physicist dr. julius robert oppenheimer. the industrial problem was centered around the production of sufficient fissile material, of sufficient purity. [SEP]\n",
      "[CLS] ) what was the immediate impact of the success of the manhattan project? [SEP] - : stopping : at least 15 feet, no more than 50 feet. you must always be in control and able to stop your vehicle with respect to all types of conditions, including railroad crossings. [SEP]\n",
      "[CLS] ) what was the immediate impact of the success of the manhattan project? [SEP] truman is briefed on manhattan project : president harry truman learns the full details of the manhattan project, in which scientists are attempting to create the first atomic bomb, on this day in 1945. the information thrust upon truman a momentous decision : whether or not to use the world ’ s first weapon of mass destruction. [SEP]\n",
      "[CLS] ) what was the immediate impact of the success of the manhattan project? [SEP] the manhattan project : the united states introduced its own nuclear program under the army corps of engineers in june 1942. the u. s. needed to build an atomic weapon before germany or japan did. on may 12, 1942, president roosevelt signed an order creating a secret project to develop the nuclear weapon. [SEP]\n",
      "[CLS] ) what was the immediate impact of the success of the manhattan project? [SEP] japanese government nixed idea of obama visiting, apologizing for, hiroshima * : on august 9, the us dropped a similar device on the japanese port city of nagasaki. truman on that day delivered a radio address in which he said, “ i realize the tragic significance of the atomic bomb. its production and its use were not lightly undertaken by this government. [SEP]\n",
      "[CLS] ) what was the immediate impact of the success of the manhattan project? [SEP] the manhattan project timeline : the project was given its name due to the fact that at least 10 of the sites used for the research were located in manhattan. following is a timeline of the key events related to the development of the atomic bomb and the manhattan project. manhattan project timeline [SEP]\n",
      "[CLS] ) what was the immediate impact of the success of the manhattan project? [SEP] - : 10. throughout oppenheimer ’ s years with the manhattan project, army intelligence continued to see him as a possible security risk. 11. when jean tatlock asked oppenheimer to visit her from los alamos in 1943, he refused. 12. at los alamos, tension developed between oppenheimer and edward teller because teller wanted to focus on building a hydrogen bomb, not an atomic bomb. 13. [SEP]\n",
      "[CLS] ) what was the immediate impact of the success of the manhattan project? [SEP] - : the manhattan project was a research and development project that produced the first nuclear weapons during world war ii. [SEP]\n",
      "[CLS] ) what was the immediate impact of the success of the manhattan project? [SEP] introduction : introduction biodiversity. the cornell - peru project is an example of the development paradigm of the 1950's and 60's that became known as the green revolution. one of the unexpected consequences of the program was a negative effect on the biodiversity of the region because the project promoted mono - cropping of improved varieties of potatoes for the commercial market in lima with the use of chemical fertilizers and pesticides ( lynch, 1982 ). [SEP]\n",
      "[CLS] ) what was the immediate impact of the success of the manhattan project? [SEP] manhattan project : nagasaki in 1945 and medical studies. conducted since that time have shown the. type of immediate and long - term health. consequences that can be expected in. the event of even a limited use of nuclear. weapons. the following describes the. health effects and casualties that could be. expected from only one 10 to 20 kiloton. nuclear weapon ( the size of the bombs. that destroyed hiroshima and nagasaki ) detonated at an altitude of 1 km above a. densely populated area1. [SEP]\n",
      "[CLS] ) what was the immediate impact of the success of the manhattan project? [SEP] - : find short, descriptive links to many of the important documents surrounding the decision to use the atomic bomb on japan here. the highlight of this website is a convincing interview with dr. leo szilard, one of the scientists on the manhattan project, predicting the use of the bomb would start the arms race with the soviet union. report broken link [SEP]\n",
      "[CLS] ) what was the immediate impact of the success of the manhattan project? [SEP] - : this project used hundreds of scientist and thousands of people to develop the first atomic bomb. the manhattan project was implemented by president franklin roosevelt in no small part due to two letters sent to him by albert einstein. [SEP]\n",
      "[CLS] ) what was the immediate impact of the success of the manhattan project? [SEP] - : find thh scaffolding services in bracknell, rg12. read 6 reviews, get contact details, photos, opening times and map directions. search for scaffolding erectors near you on yell. [SEP]\n",
      "[CLS] ) what was the immediate impact of the success of the manhattan project? [SEP] - : functions of the kidneys. 1. regulation of water, inorganic ion balance, and acid / base balance. 2. removal of metabolic waste products from the blood and their excretion in the urine. 3. removal of foreign chemicals from the blood and their excretion in the urine. 4. gluconeogenesis. [SEP]\n",
      "[CLS] ) what was the immediate impact of the success of the manhattan project? [SEP] 51f. the manhattan project : in fact, vice - president truman had never heard of the manhattan project until he became president truman. although the axis powers remained unaware of the efforts at los alamos, american leaders later learned that a soviet spy named klaus fuchs had penetrated the inner circle of scientists. [SEP]\n",
      "[CLS] ) what was the immediate impact of the success of the manhattan project? [SEP] the manhattan project : the manhattan project. the manhattan project was the codename given to the top - secret project that they us government organized during world war 2. the intent of the project was to build the world ’ s first atomic bomb. shortly before, nuclear fission had been discovered, and with that discovery, the possibility for such a weapon opened up. [SEP]\n",
      "[CLS] ) what was the immediate impact of the success of the manhattan project? [SEP] the manhattan project : first atomic bomb dropped on hiroshima, japan. woe is me. — albert einstein, upon hearing the news of the hiroshima bombing. the bombing of japan. on august 9, 1945, the united states dropped an atomic bomb on the city of nagasaki, japan, three days after bombing hiroshima. by the end of 1945, an estimated 200, 000 people had died in the two cities. [SEP]\n",
      "[CLS] ) what was the immediate impact of the success of the manhattan project? [SEP] manhattan project : this article is about the atomic bomb project. for other uses, see manhattan project ( disambiguation ). the manhattan project was a research and development undertaking during world war ii that produced the first nuclear weapons. it was led by the united states with the support of the united kingdom and canada. [SEP]\n",
      "[CLS] ) what was the immediate impact of the success of the manhattan project? [SEP] who rules the world? : the first atomic bomb was dropped. the first atomic bomb, nicknamed little boy, was dropped on hiroshima on august 6, 1945. although einstein did not invent the bomb and did not participate in the manhattan project, his theories laid the foundation for it. the relativity theory showed that mass could be converted directly into energy ( e = mc & # 178 ), and that a minute piece of mass could release a vast amount of energy. [SEP]\n",
      "[CLS] ) what was the immediate impact of the success of the manhattan project? [SEP] 51f. the manhattan project : by the summer of 1945, oppenheimer was ready to test the first bomb. on july 16, 1945, at trinity site near alamogordo, new mexico, scientists of the manhattan project readied themselves to watch the detonation of the world's first atomic bomb. the device was affixed to a 100 - foot tower and discharged just before dawn. no one was properly prepared for the result. [SEP]\n"
     ]
    }
   ],
   "source": [
    "for elem in example['input_ids']:\n",
    "    print(tokenizer.decode(elem))\n"
   ]
  },
  {
   "cell_type": "code",
   "execution_count": 10,
   "metadata": {},
   "outputs": [],
   "source": [
    "from torch.utils.data import DataLoader\n",
    "\n",
    "dataloader_params = {\n",
    "    \"batch_size\": trainer._train_batch_size,\n",
    "    \"collate_fn\": data_collator,\n",
    "    \"num_workers\": trainer.args.dataloader_num_workers,\n",
    "    \"pin_memory\": trainer.args.dataloader_pin_memory,\n",
    "    \"persistent_workers\": trainer.args.dataloader_persistent_workers,\n",
    "}\n",
    "\n",
    "if not isinstance(train_dataset, torch.utils.data.IterableDataset):\n",
    "    dataloader_params[\"sampler\"] = trainer._get_train_sampler()\n",
    "    dataloader_params[\"drop_last\"] = trainer.args.dataloader_drop_last\n",
    "    dataloader_params[\"prefetch_factor\"] = trainer.args.dataloader_prefetch_factor\n",
    "\n",
    "train_dataloader = DataLoader(train_dataset, **dataloader_params)"
   ]
  },
  {
   "cell_type": "code",
   "execution_count": 11,
   "metadata": {},
   "outputs": [
    {
     "name": "stderr",
     "output_type": "stream",
     "text": [
      "huggingface/tokenizers: The current process just got forked, after parallelism has already been used. Disabling parallelism to avoid deadlocks...\n",
      "To disable this warning, you can either:\n",
      "\t- Avoid using `tokenizers` before the fork if possible\n",
      "\t- Explicitly set the environment variable TOKENIZERS_PARALLELISM=(true | false)\n",
      "[WARNING|logging.py:314] 2024-11-19 12:41:02,735 >> You're using a ElectraTokenizerFast tokenizer. Please note that with a fast tokenizer, using the `__call__` method is faster than using a method to encode the text followed by a call to the `pad` method to get a padded encoding.\n"
     ]
    },
    {
     "data": {
      "text/plain": [
       "{'input_ids': tensor([[  101,  2054,  2003,  ...,     0,     0,     0],\n",
       "        [  101,  2054,  2003,  ...,     0,     0,     0],\n",
       "        [  101,  2054,  2003,  ...,     0,     0,     0],\n",
       "        ...,\n",
       "        [  101,  7051, 23054,  ...,     0,     0,     0],\n",
       "        [  101,  7051, 23054,  ...,     0,     0,     0],\n",
       "        [  101,  7051, 23054,  ...,     0,     0,     0]]), 'token_type_ids': tensor([[0, 0, 0,  ..., 0, 0, 0],\n",
       "        [0, 0, 0,  ..., 0, 0, 0],\n",
       "        [0, 0, 0,  ..., 0, 0, 0],\n",
       "        ...,\n",
       "        [0, 0, 0,  ..., 0, 0, 0],\n",
       "        [0, 0, 0,  ..., 0, 0, 0],\n",
       "        [0, 0, 0,  ..., 0, 0, 0]]), 'attention_mask': tensor([[1, 1, 1,  ..., 0, 0, 0],\n",
       "        [1, 1, 1,  ..., 0, 0, 0],\n",
       "        [1, 1, 1,  ..., 0, 0, 0],\n",
       "        ...,\n",
       "        [1, 1, 1,  ..., 0, 0, 0],\n",
       "        [1, 1, 1,  ..., 0, 0, 0],\n",
       "        [1, 1, 1,  ..., 0, 0, 0]]), 'labels': tensor([0, 0, 0, 0, 0, 0, 0, 0, 0, 0, 0, 0, 0, 0, 0, 0])}"
      ]
     },
     "execution_count": 11,
     "metadata": {},
     "output_type": "execute_result"
    }
   ],
   "source": [
    "for batch in train_dataloader:\n",
    "    break\n",
    "batch"
   ]
  },
  {
   "cell_type": "code",
   "execution_count": 12,
   "metadata": {},
   "outputs": [],
   "source": [
    "import torch\n",
    "import torch.distributed as dist\n",
    "import os\n",
    "\n",
    "def init_distributed_single_gpu():\n",
    "    # Set environment variables\n",
    "    os.environ[\"MASTER_ADDR\"] = \"localhost\"\n",
    "    os.environ[\"MASTER_PORT\"] = \"12356\"\n",
    "    \n",
    "    # Initialize process group\n",
    "    dist.init_process_group(\n",
    "        backend=\"nccl\",  # Use NCCL backend for GPU\n",
    "        rank=0,          # Single GPU, so rank is 0\n",
    "        world_size=1     # Total number of processes is 1\n",
    "    )\n",
    "    \n",
    "    # Set the device\n",
    "    torch.cuda.set_device(1)\n",
    "\n",
    "init_distributed_single_gpu()"
   ]
  },
  {
   "cell_type": "code",
   "execution_count": 29,
   "metadata": {},
   "outputs": [],
   "source": [
    "DEVICE = \"cpu\"\n",
    "model = model.to(DEVICE)\n",
    "batch = {k: v.to(DEVICE) if isinstance(v, torch.Tensor) else v for k, v in batch.items()}"
   ]
  },
  {
   "cell_type": "code",
   "execution_count": 30,
   "metadata": {},
   "outputs": [
    {
     "data": {
      "text/plain": [
       "torch.Size([1024, 192])"
      ]
     },
     "execution_count": 30,
     "metadata": {},
     "output_type": "execute_result"
    }
   ],
   "source": [
    "batch[\"input_ids\"].shape"
   ]
  },
  {
   "cell_type": "code",
   "execution_count": 33,
   "metadata": {},
   "outputs": [],
   "source": [
    "trainer.state.epoch = 0"
   ]
  },
  {
   "cell_type": "code",
   "execution_count": 39,
   "metadata": {},
   "outputs": [
    {
     "data": {
      "text/plain": [
       "tensor(2.7864, grad_fn=<AddBackward0>)"
      ]
     },
     "execution_count": 39,
     "metadata": {},
     "output_type": "execute_result"
    },
    {
     "ename": "",
     "evalue": "",
     "output_type": "error",
     "traceback": [
      "\u001b[1;31mThe Kernel crashed while executing code in the current cell or a previous cell. \n",
      "\u001b[1;31mPlease review the code in the cell(s) to identify a possible cause of the failure. \n",
      "\u001b[1;31mClick <a href='https://aka.ms/vscodeJupyterKernelCrash'>here</a> for more info. \n",
      "\u001b[1;31mView Jupyter <a href='command:jupyter.viewOutput'>log</a> for further details."
     ]
    }
   ],
   "source": [
    "loss = trainer.compute_loss(model, batch)\n",
    "loss"
   ]
  }
 ],
 "metadata": {
  "kernelspec": {
   "display_name": "e5",
   "language": "python",
   "name": "python3"
  },
  "language_info": {
   "codemirror_mode": {
    "name": "ipython",
    "version": 3
   },
   "file_extension": ".py",
   "mimetype": "text/x-python",
   "name": "python",
   "nbconvert_exporter": "python",
   "pygments_lexer": "ipython3",
   "version": "3.11.10"
  }
 },
 "nbformat": 4,
 "nbformat_minor": 2
}
