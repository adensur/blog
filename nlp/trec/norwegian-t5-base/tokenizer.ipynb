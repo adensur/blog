{
 "cells": [
  {
   "cell_type": "code",
   "execution_count": 2,
   "metadata": {},
   "outputs": [
    {
     "name": "stderr",
     "output_type": "stream",
     "text": [
      "/home/mak/.local/lib/python3.10/site-packages/tqdm/auto.py:21: TqdmWarning: IProgress not found. Please update jupyter and ipywidgets. See https://ipywidgets.readthedocs.io/en/stable/user_install.html\n",
      "  from .autonotebook import tqdm as notebook_tqdm\n"
     ]
    }
   ],
   "source": [
    "import datasets"
   ]
  },
  {
   "cell_type": "code",
   "execution_count": 4,
   "metadata": {},
   "outputs": [],
   "source": [
    "from t5_tokenizer_model import SentencePieceUnigramTokenizer"
   ]
  },
  {
   "cell_type": "code",
   "execution_count": 5,
   "metadata": {},
   "outputs": [
    {
     "name": "stderr",
     "output_type": "stream",
     "text": [
      "/home/mak/.local/lib/python3.10/site-packages/datasets/load.py:1429: FutureWarning: The repository for oscar contains custom code which must be executed to correctly load the dataset. You can inspect the repository content at https://hf.co/datasets/oscar\n",
      "You can avoid this message in future by passing the argument `trust_remote_code=True`.\n",
      "Passing `trust_remote_code=True` will be mandatory to load this dataset from the next major release of `datasets`.\n",
      "  warnings.warn(\n",
      "Downloading builder script: 100%|██████████| 14.8k/14.8k [00:00<00:00, 47.9MB/s]\n",
      "Downloading readme: 100%|██████████| 303k/303k [00:00<00:00, 4.61MB/s]\n",
      "Downloading data: 100%|██████████| 246/246 [00:00<00:00, 491kB/s]\n",
      "Downloading data: 100%|██████████| 751M/751M [00:35<00:00, 21.1MB/s] \n",
      "Downloading data: 100%|██████████| 752M/752M [00:33<00:00, 22.4MB/s] \n",
      "Downloading data: 100%|██████████| 458M/458M [00:29<00:00, 15.5MB/s] \n",
      "Generating train split: 100%|██████████| 3229940/3229940 [01:47<00:00, 29968.83 examples/s]\n"
     ]
    },
    {
     "name": "stdout",
     "output_type": "stream",
     "text": [
      "\n",
      "\n"
     ]
    },
    {
     "ename": "Exception",
     "evalue": "No such file or directory (os error 2)",
     "output_type": "error",
     "traceback": [
      "\u001b[0;31m---------------------------------------------------------------------------\u001b[0m",
      "\u001b[0;31mException\u001b[0m                                 Traceback (most recent call last)",
      "Cell \u001b[0;32mIn[5], line 30\u001b[0m\n\u001b[1;32m     23\u001b[0m tokenizer\u001b[38;5;241m.\u001b[39mtrain_from_iterator(\n\u001b[1;32m     24\u001b[0m     iterator\u001b[38;5;241m=\u001b[39mbatch_iterator(input_sentence_size\u001b[38;5;241m=\u001b[39minput_sentence_size),\n\u001b[1;32m     25\u001b[0m     vocab_size\u001b[38;5;241m=\u001b[39mvocab_size,\n\u001b[1;32m     26\u001b[0m     show_progress\u001b[38;5;241m=\u001b[39m\u001b[38;5;28;01mTrue\u001b[39;00m,\n\u001b[1;32m     27\u001b[0m )\n\u001b[1;32m     29\u001b[0m \u001b[38;5;66;03m# Save files to disk\u001b[39;00m\n\u001b[0;32m---> 30\u001b[0m \u001b[43mtokenizer\u001b[49m\u001b[38;5;241;43m.\u001b[39;49m\u001b[43msave\u001b[49m\u001b[43m(\u001b[49m\u001b[38;5;124;43m\"\u001b[39;49m\u001b[38;5;124;43m./norwegian-t5-base/tokenizer.json\u001b[39;49m\u001b[38;5;124;43m\"\u001b[39;49m\u001b[43m)\u001b[49m\n",
      "File \u001b[0;32m~/miniconda3/envs/t5/lib/python3.10/site-packages/tokenizers/implementations/base_tokenizer.py:341\u001b[0m, in \u001b[0;36mBaseTokenizer.save\u001b[0;34m(self, path, pretty)\u001b[0m\n\u001b[1;32m    334\u001b[0m \u001b[38;5;28;01mdef\u001b[39;00m \u001b[38;5;21msave\u001b[39m(\u001b[38;5;28mself\u001b[39m, path: \u001b[38;5;28mstr\u001b[39m, pretty: \u001b[38;5;28mbool\u001b[39m \u001b[38;5;241m=\u001b[39m \u001b[38;5;28;01mTrue\u001b[39;00m):\n\u001b[1;32m    335\u001b[0m \u001b[38;5;250m    \u001b[39m\u001b[38;5;124;03m\"\"\"Save the current Tokenizer at the given path\u001b[39;00m\n\u001b[1;32m    336\u001b[0m \n\u001b[1;32m    337\u001b[0m \u001b[38;5;124;03m    Args:\u001b[39;00m\n\u001b[1;32m    338\u001b[0m \u001b[38;5;124;03m        path: str:\u001b[39;00m\n\u001b[1;32m    339\u001b[0m \u001b[38;5;124;03m            A path to the destination Tokenizer file\u001b[39;00m\n\u001b[1;32m    340\u001b[0m \u001b[38;5;124;03m    \"\"\"\u001b[39;00m\n\u001b[0;32m--> 341\u001b[0m     \u001b[38;5;28;01mreturn\u001b[39;00m \u001b[38;5;28;43mself\u001b[39;49m\u001b[38;5;241;43m.\u001b[39;49m\u001b[43m_tokenizer\u001b[49m\u001b[38;5;241;43m.\u001b[39;49m\u001b[43msave\u001b[49m\u001b[43m(\u001b[49m\u001b[43mpath\u001b[49m\u001b[43m,\u001b[49m\u001b[43m \u001b[49m\u001b[43mpretty\u001b[49m\u001b[43m)\u001b[49m\n",
      "\u001b[0;31mException\u001b[0m: No such file or directory (os error 2)"
     ]
    }
   ],
   "source": [
    "\n",
    "\n",
    "from t5_tokenizer_model import SentencePieceUnigramTokenizer\n",
    "\n",
    "\n",
    "vocab_size = 32_000\n",
    "input_sentence_size = None\n",
    "\n",
    "# Initialize a dataset\n",
    "dataset = datasets.load_dataset(\"oscar\", name=\"unshuffled_deduplicated_no\", split=\"train\")\n",
    "\n",
    "tokenizer = SentencePieceUnigramTokenizer(unk_token=\"<unk>\", eos_token=\"</s>\", pad_token=\"<pad>\")\n",
    "\n",
    "\n",
    "# Build an iterator over this dataset\n",
    "def batch_iterator(input_sentence_size=None):\n",
    "    if input_sentence_size is None:\n",
    "        input_sentence_size = len(dataset)\n",
    "    batch_length = 100\n",
    "    for i in range(0, input_sentence_size, batch_length):\n",
    "        yield dataset[i: i + batch_length][\"text\"]\n",
    "\n",
    "\n",
    "# Train tokenizer\n",
    "tokenizer.train_from_iterator(\n",
    "    iterator=batch_iterator(input_sentence_size=input_sentence_size),\n",
    "    vocab_size=vocab_size,\n",
    "    show_progress=True,\n",
    ")\n"
   ]
  },
  {
   "cell_type": "code",
   "execution_count": 6,
   "metadata": {},
   "outputs": [],
   "source": [
    "\n",
    "# Save files to disk\n",
    "tokenizer.save(\"./norwegian-t5-base/tokenizer.json\")"
   ]
  },
  {
   "cell_type": "code",
   "execution_count": 8,
   "metadata": {},
   "outputs": [
    {
     "name": "stderr",
     "output_type": "stream",
     "text": [
      "None of PyTorch, TensorFlow >= 2.0, or Flax have been found. Models won't be available and only tokenizers, configuration and file/data utilities can be used.\n",
      "config.json: 100%|██████████| 605/605 [00:00<00:00, 1.08MB/s]\n"
     ]
    }
   ],
   "source": [
    "from transformers import T5Config\n",
    "\n",
    "config = T5Config.from_pretrained(\"google/t5-v1_1-base\", vocab_size=tokenizer.get_vocab_size())\n",
    "config.save_pretrained(\"./norwegian-t5-base\")"
   ]
  }
 ],
 "metadata": {
  "kernelspec": {
   "display_name": "t5",
   "language": "python",
   "name": "python3"
  },
  "language_info": {
   "codemirror_mode": {
    "name": "ipython",
    "version": 3
   },
   "file_extension": ".py",
   "mimetype": "text/x-python",
   "name": "python",
   "nbconvert_exporter": "python",
   "pygments_lexer": "ipython3",
   "version": "3.10.13"
  }
 },
 "nbformat": 4,
 "nbformat_minor": 2
}
