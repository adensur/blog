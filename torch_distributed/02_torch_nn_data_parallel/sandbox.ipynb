{
 "cells": [
  {
   "cell_type": "code",
   "execution_count": 19,
   "metadata": {},
   "outputs": [
    {
     "name": "stdout",
     "output_type": "stream",
     "text": [
      "                      query  \\\n",
      "0  . what is a corporation?   \n",
      "1  . what is a corporation?   \n",
      "2  . what is a corporation?   \n",
      "3  . what is a corporation?   \n",
      "4  . what is a corporation?   \n",
      "\n",
      "                                             passage  label  \n",
      "0  McDonald's Corporation is one of the most reco...      1  \n",
      "1  Exclusive provider organization (EPO) vs. pref...      0  \n",
      "2  You could train rear delts first on shoulder d...      0  \n",
      "3  [ more ]. Iona is a very prominent first name ...      0  \n",
      "4  Human diploid cells contain two sets of 23 chr...      0  \n"
     ]
    }
   ],
   "source": [
    "import ir_datasets\n",
    "from collections import defaultdict\n",
    "import pandas as pd\n",
    "import torch\n",
    "import random\n",
    "\n",
    "MAX_QUERIES = 3000\n",
    "\n",
    "# Load the MS MARCO passage dataset\n",
    "dataset = ir_datasets.load(\"msmarco-passage\")\n",
    "\n",
    "# Load the queries from the development set\n",
    "queries_dataset = ir_datasets.load(\"msmarco-passage/dev\")\n",
    "\n",
    "# Create dictionaries to store passages and queries\n",
    "passages = {}\n",
    "queries = {}\n",
    "qrels = defaultdict(dict)\n",
    "\n",
    "# Load passages\n",
    "for passage in dataset.docs_iter():\n",
    "    passages[passage.doc_id] = passage.text\n",
    "\n",
    "# Load queries\n",
    "for query in queries_dataset.queries_iter():\n",
    "    queries[query.query_id] = query.text\n",
    "\n",
    "# Load qrels\n",
    "for qrel in queries_dataset.qrels_iter():\n",
    "    qrels[qrel.query_id][qrel.doc_id] = qrel.relevance\n",
    "\n",
    "# Create triplets with positives and negatives\n",
    "triplets = []\n",
    "passage_ids = list(passages.keys())\n",
    "\n",
    "# Limit to max 100 queries\n",
    "for query_id, doc_dict in list(qrels.items())[:MAX_QUERIES]:\n",
    "    # Add positive examples\n",
    "    for doc_id, relevance in doc_dict.items():\n",
    "        if query_id in queries and doc_id in passages:\n",
    "            triplet = (queries[query_id], passages[doc_id], relevance)\n",
    "            triplets.append(triplet)\n",
    "            \n",
    "            # Add 8 random negative examples for this query\n",
    "            negative_passages = []\n",
    "            while len(negative_passages) < 8:\n",
    "                neg_doc_id = random.choice(passage_ids)\n",
    "                # Make sure negative example isn't actually positive\n",
    "                if neg_doc_id not in doc_dict:\n",
    "                    triplet = (queries[query_id], passages[neg_doc_id], 0)\n",
    "                    triplets.append(triplet)\n",
    "                    negative_passages.append(neg_doc_id)\n",
    "\n",
    "# Create DataFrame from triplets\n",
    "df = pd.DataFrame(triplets, columns=['query', 'passage', 'label'])\n",
    "\n",
    "# Display first few rows\n",
    "print(df.head())\n"
   ]
  },
  {
   "cell_type": "code",
   "execution_count": 21,
   "metadata": {},
   "outputs": [
    {
     "data": {
      "text/plain": [
       "label\n",
       "0    25776\n",
       "1     3222\n",
       "Name: count, dtype: int64"
      ]
     },
     "execution_count": 21,
     "metadata": {},
     "output_type": "execute_result"
    }
   ],
   "source": [
    "df[\"label\"].value_counts()"
   ]
  },
  {
   "cell_type": "code",
   "execution_count": 22,
   "metadata": {},
   "outputs": [
    {
     "name": "stderr",
     "output_type": "stream",
     "text": [
      "huggingface/tokenizers: The current process just got forked, after parallelism has already been used. Disabling parallelism to avoid deadlocks...\n",
      "To disable this warning, you can either:\n",
      "\t- Avoid using `tokenizers` before the fork if possible\n",
      "\t- Explicitly set the environment variable TOKENIZERS_PARALLELISM=(true | false)\n"
     ]
    },
    {
     "data": {
      "text/plain": [
       "XLMRobertaModel(\n",
       "  (embeddings): XLMRobertaEmbeddings(\n",
       "    (word_embeddings): Embedding(250002, 1024, padding_idx=1)\n",
       "    (position_embeddings): Embedding(8194, 1024, padding_idx=1)\n",
       "    (token_type_embeddings): Embedding(1, 1024)\n",
       "    (LayerNorm): LayerNorm((1024,), eps=1e-05, elementwise_affine=True)\n",
       "    (dropout): Dropout(p=0.1, inplace=False)\n",
       "  )\n",
       "  (encoder): XLMRobertaEncoder(\n",
       "    (layer): ModuleList(\n",
       "      (0-23): 24 x XLMRobertaLayer(\n",
       "        (attention): XLMRobertaAttention(\n",
       "          (self): XLMRobertaSdpaSelfAttention(\n",
       "            (query): Linear(in_features=1024, out_features=1024, bias=True)\n",
       "            (key): Linear(in_features=1024, out_features=1024, bias=True)\n",
       "            (value): Linear(in_features=1024, out_features=1024, bias=True)\n",
       "            (dropout): Dropout(p=0.1, inplace=False)\n",
       "          )\n",
       "          (output): XLMRobertaSelfOutput(\n",
       "            (dense): Linear(in_features=1024, out_features=1024, bias=True)\n",
       "            (LayerNorm): LayerNorm((1024,), eps=1e-05, elementwise_affine=True)\n",
       "            (dropout): Dropout(p=0.1, inplace=False)\n",
       "          )\n",
       "        )\n",
       "        (intermediate): XLMRobertaIntermediate(\n",
       "          (dense): Linear(in_features=1024, out_features=4096, bias=True)\n",
       "          (intermediate_act_fn): GELUActivation()\n",
       "        )\n",
       "        (output): XLMRobertaOutput(\n",
       "          (dense): Linear(in_features=4096, out_features=1024, bias=True)\n",
       "          (LayerNorm): LayerNorm((1024,), eps=1e-05, elementwise_affine=True)\n",
       "          (dropout): Dropout(p=0.1, inplace=False)\n",
       "        )\n",
       "      )\n",
       "    )\n",
       "  )\n",
       "  (pooler): XLMRobertaPooler(\n",
       "    (dense): Linear(in_features=1024, out_features=1024, bias=True)\n",
       "    (activation): Tanh()\n",
       "  )\n",
       ")"
      ]
     },
     "execution_count": 22,
     "metadata": {},
     "output_type": "execute_result"
    }
   ],
   "source": [
    "from transformers import AutoTokenizer, AutoModel\n",
    "\n",
    "tokenizer = AutoTokenizer.from_pretrained(\"BAAI/bge-m3\")\n",
    "model = AutoModel.from_pretrained(\"BAAI/bge-m3\")\n",
    "model.eval()\n",
    "\n"
   ]
  },
  {
   "cell_type": "code",
   "execution_count": 23,
   "metadata": {},
   "outputs": [],
   "source": [
    "tokenized_query = tokenizer(df[\"query\"].tolist(), padding=True, truncation=True, return_tensors=\"pt\", max_length=512)\n",
    "tokenized_passage = tokenizer(df[\"passage\"].tolist(), padding=True, truncation=True, return_tensors=\"pt\", max_length=512)"
   ]
  },
  {
   "cell_type": "code",
   "execution_count": 45,
   "metadata": {},
   "outputs": [],
   "source": [
    "DEVICE = \"cuda:4\"\n",
    "model = model.to(DEVICE)\n",
    "tokenized_query = tokenized_query.to(DEVICE)\n",
    "tokenized_passage = tokenized_passage.to(DEVICE)\n"
   ]
  },
  {
   "cell_type": "code",
   "execution_count": 39,
   "metadata": {},
   "outputs": [],
   "source": [
    "from tqdm import tqdm\n",
    "import time\n",
    "\n",
    "def compute_similarity_scores(model, tokenized_query, tokenized_passage, batch_size=128):\n",
    "    num_samples = len(tokenized_query['input_ids'])\n",
    "    embeddings_query = []\n",
    "    embeddings_passage = []\n",
    "\n",
    "    start_time = time.time()\n",
    "\n",
    "    with torch.no_grad():\n",
    "        # Process queries in batches\n",
    "        for i in tqdm(range(0, num_samples, batch_size), desc=\"Processing queries\"):\n",
    "            batch_query = {k: v[i:i+batch_size] for k,v in tokenized_query.items()}\n",
    "            model_output_query = model(**batch_query)\n",
    "            embeddings_query.append(model_output_query[0][:, 0])\n",
    "            \n",
    "        # Process passages in batches  \n",
    "        for i in tqdm(range(0, num_samples, batch_size), desc=\"Processing passages\"):\n",
    "            batch_passage = {k: v[i:i+batch_size] for k,v in tokenized_passage.items()}\n",
    "            model_output_passage = model(**batch_passage)\n",
    "            embeddings_passage.append(model_output_passage[0][:, 0])\n",
    "\n",
    "    # Concatenate batches\n",
    "    embeddings_query = torch.cat(embeddings_query)\n",
    "    embeddings_passage = torch.cat(embeddings_passage)\n",
    "\n",
    "    dot = (embeddings_query * embeddings_passage).sum(axis=1)\n",
    "    scores = dot.cpu().numpy()\n",
    "\n",
    "    end_time = time.time()\n",
    "    print(f\"\\nTotal processing time: {end_time - start_time:.2f} seconds\")\n",
    "    \n",
    "    return scores"
   ]
  },
  {
   "cell_type": "code",
   "execution_count": 40,
   "metadata": {},
   "outputs": [
    {
     "name": "stderr",
     "output_type": "stream",
     "text": [
      "Processing queries: 100%|██████████| 227/227 [00:26<00:00,  8.53it/s]\n",
      "Processing passages: 100%|██████████| 227/227 [01:58<00:00,  1.92it/s]\n"
     ]
    },
    {
     "name": "stdout",
     "output_type": "stream",
     "text": [
      "\n",
      "Total processing time: 144.93 seconds\n"
     ]
    }
   ],
   "source": [
    "df[\"score\"] = compute_similarity_scores(model, tokenized_query, tokenized_passage, batch_size=128)"
   ]
  },
  {
   "cell_type": "code",
   "execution_count": 41,
   "metadata": {},
   "outputs": [
    {
     "data": {
      "text/plain": [
       "BaseModelOutputWithPoolingAndCrossAttentions(last_hidden_state=tensor([[[-1.1897,  0.1981, -0.1613,  ..., -0.4873, -1.4341, -1.0992],\n",
       "         [-0.5305, -0.3591,  0.5178,  ..., -0.1679, -1.1997, -0.4868],\n",
       "         [-0.3913, -0.1612,  0.5222,  ..., -0.2366, -1.1795, -0.0294],\n",
       "         ...,\n",
       "         [-0.3763,  0.5333,  0.4813,  ..., -0.4275, -1.1674, -0.3303],\n",
       "         [-0.3763,  0.5333,  0.4813,  ..., -0.4275, -1.1674, -0.3303],\n",
       "         [-0.3763,  0.5333,  0.4813,  ..., -0.4275, -1.1674, -0.3303]],\n",
       "\n",
       "        [[-1.1897,  0.1981, -0.1613,  ..., -0.4873, -1.4341, -1.0992],\n",
       "         [-0.5305, -0.3591,  0.5178,  ..., -0.1679, -1.1997, -0.4868],\n",
       "         [-0.3913, -0.1612,  0.5222,  ..., -0.2366, -1.1795, -0.0294],\n",
       "         ...,\n",
       "         [-0.3763,  0.5333,  0.4813,  ..., -0.4275, -1.1674, -0.3303],\n",
       "         [-0.3763,  0.5333,  0.4813,  ..., -0.4275, -1.1674, -0.3303],\n",
       "         [-0.3763,  0.5333,  0.4813,  ..., -0.4275, -1.1674, -0.3303]],\n",
       "\n",
       "        [[-1.1897,  0.1981, -0.1613,  ..., -0.4873, -1.4341, -1.0992],\n",
       "         [-0.5305, -0.3591,  0.5178,  ..., -0.1679, -1.1997, -0.4868],\n",
       "         [-0.3913, -0.1612,  0.5222,  ..., -0.2366, -1.1795, -0.0294],\n",
       "         ...,\n",
       "         [-0.3763,  0.5333,  0.4813,  ..., -0.4275, -1.1674, -0.3303],\n",
       "         [-0.3763,  0.5333,  0.4813,  ..., -0.4275, -1.1674, -0.3303],\n",
       "         [-0.3763,  0.5333,  0.4813,  ..., -0.4275, -1.1674, -0.3303]],\n",
       "\n",
       "        ...,\n",
       "\n",
       "        [[ 0.9067,  0.5203, -1.4730,  ...,  0.3417,  0.0778, -0.3464],\n",
       "         [ 0.6227,  0.2117, -1.3729,  ...,  0.7543, -0.4693, -0.6205],\n",
       "         [ 0.7324, -0.0297, -1.3439,  ...,  0.8385, -0.2465, -0.0716],\n",
       "         ...,\n",
       "         [ 0.7780,  0.7812, -1.0605,  ...,  0.1345, -0.2702, -0.3031],\n",
       "         [ 0.7780,  0.7812, -1.0605,  ...,  0.1345, -0.2702, -0.3031],\n",
       "         [ 0.7780,  0.7812, -1.0605,  ...,  0.1345, -0.2702, -0.3031]],\n",
       "\n",
       "        [[ 0.9067,  0.5203, -1.4730,  ...,  0.3417,  0.0778, -0.3464],\n",
       "         [ 0.6227,  0.2117, -1.3729,  ...,  0.7543, -0.4693, -0.6205],\n",
       "         [ 0.7324, -0.0297, -1.3439,  ...,  0.8385, -0.2465, -0.0716],\n",
       "         ...,\n",
       "         [ 0.7780,  0.7812, -1.0605,  ...,  0.1345, -0.2702, -0.3031],\n",
       "         [ 0.7780,  0.7812, -1.0605,  ...,  0.1345, -0.2702, -0.3031],\n",
       "         [ 0.7780,  0.7812, -1.0605,  ...,  0.1345, -0.2702, -0.3031]],\n",
       "\n",
       "        [[ 0.9067,  0.5203, -1.4730,  ...,  0.3417,  0.0778, -0.3464],\n",
       "         [ 0.6227,  0.2117, -1.3729,  ...,  0.7543, -0.4693, -0.6205],\n",
       "         [ 0.7324, -0.0297, -1.3439,  ...,  0.8385, -0.2465, -0.0716],\n",
       "         ...,\n",
       "         [ 0.7780,  0.7812, -1.0605,  ...,  0.1345, -0.2702, -0.3031],\n",
       "         [ 0.7780,  0.7812, -1.0605,  ...,  0.1345, -0.2702, -0.3031],\n",
       "         [ 0.7780,  0.7812, -1.0605,  ...,  0.1345, -0.2702, -0.3031]]],\n",
       "       device='cuda:1', grad_fn=<NativeLayerNormBackward0>), pooler_output=tensor([[-0.2882,  0.4718, -0.2359,  ...,  0.2026,  0.1698,  0.3590],\n",
       "        [-0.2882,  0.4718, -0.2359,  ...,  0.2026,  0.1698,  0.3590],\n",
       "        [-0.2882,  0.4718, -0.2359,  ...,  0.2026,  0.1698,  0.3590],\n",
       "        ...,\n",
       "        [-0.8115,  0.4849,  0.1298,  ..., -0.0736,  0.2450,  0.0042],\n",
       "        [-0.8115,  0.4849,  0.1298,  ..., -0.0736,  0.2450,  0.0042],\n",
       "        [-0.8115,  0.4849,  0.1298,  ..., -0.0736,  0.2450,  0.0042]],\n",
       "       device='cuda:1', grad_fn=<TanhBackward0>), hidden_states=None, past_key_values=None, attentions=None, cross_attentions=None)"
      ]
     },
     "execution_count": 41,
     "metadata": {},
     "output_type": "execute_result"
    }
   ],
   "source": [
    "batch_query = {k: v[0:128] for k,v in tokenized_query.items()}\n",
    "preds = model(**batch_query)\n",
    "preds"
   ]
  },
  {
   "cell_type": "code",
   "execution_count": 43,
   "metadata": {},
   "outputs": [
    {
     "data": {
      "text/plain": [
       "DataParallel(\n",
       "  (module): XLMRobertaModel(\n",
       "    (embeddings): XLMRobertaEmbeddings(\n",
       "      (word_embeddings): Embedding(250002, 1024, padding_idx=1)\n",
       "      (position_embeddings): Embedding(8194, 1024, padding_idx=1)\n",
       "      (token_type_embeddings): Embedding(1, 1024)\n",
       "      (LayerNorm): LayerNorm((1024,), eps=1e-05, elementwise_affine=True)\n",
       "      (dropout): Dropout(p=0.1, inplace=False)\n",
       "    )\n",
       "    (encoder): XLMRobertaEncoder(\n",
       "      (layer): ModuleList(\n",
       "        (0-23): 24 x XLMRobertaLayer(\n",
       "          (attention): XLMRobertaAttention(\n",
       "            (self): XLMRobertaSdpaSelfAttention(\n",
       "              (query): Linear(in_features=1024, out_features=1024, bias=True)\n",
       "              (key): Linear(in_features=1024, out_features=1024, bias=True)\n",
       "              (value): Linear(in_features=1024, out_features=1024, bias=True)\n",
       "              (dropout): Dropout(p=0.1, inplace=False)\n",
       "            )\n",
       "            (output): XLMRobertaSelfOutput(\n",
       "              (dense): Linear(in_features=1024, out_features=1024, bias=True)\n",
       "              (LayerNorm): LayerNorm((1024,), eps=1e-05, elementwise_affine=True)\n",
       "              (dropout): Dropout(p=0.1, inplace=False)\n",
       "            )\n",
       "          )\n",
       "          (intermediate): XLMRobertaIntermediate(\n",
       "            (dense): Linear(in_features=1024, out_features=4096, bias=True)\n",
       "            (intermediate_act_fn): GELUActivation()\n",
       "          )\n",
       "          (output): XLMRobertaOutput(\n",
       "            (dense): Linear(in_features=4096, out_features=1024, bias=True)\n",
       "            (LayerNorm): LayerNorm((1024,), eps=1e-05, elementwise_affine=True)\n",
       "            (dropout): Dropout(p=0.1, inplace=False)\n",
       "          )\n",
       "        )\n",
       "      )\n",
       "    )\n",
       "    (pooler): XLMRobertaPooler(\n",
       "      (dense): Linear(in_features=1024, out_features=1024, bias=True)\n",
       "      (activation): Tanh()\n",
       "    )\n",
       "  )\n",
       ")"
      ]
     },
     "execution_count": 43,
     "metadata": {},
     "output_type": "execute_result"
    }
   ],
   "source": [
    "wrapped_model = torch.nn.DataParallel(model, device_ids=[4,5,6,7])\n",
    "wrapped_model"
   ]
  },
  {
   "cell_type": "code",
   "execution_count": 46,
   "metadata": {},
   "outputs": [
    {
     "data": {
      "text/plain": [
       "(tensor([-1.1897,  0.1981, -0.1613,  0.2960, -0.2720], device='cuda:1',\n",
       "        grad_fn=<SliceBackward0>),\n",
       " tensor([-1.1897,  0.1981, -0.1613,  0.2960, -0.2720], device='cuda:4',\n",
       "        grad_fn=<SliceBackward0>))"
      ]
     },
     "execution_count": 46,
     "metadata": {},
     "output_type": "execute_result"
    }
   ],
   "source": [
    "preds2 = wrapped_model(**batch_query)\n",
    "preds.last_hidden_state[0,0,:5], preds2.last_hidden_state[0,0,:5]"
   ]
  },
  {
   "cell_type": "code",
   "execution_count": 50,
   "metadata": {},
   "outputs": [
    {
     "name": "stderr",
     "output_type": "stream",
     "text": [
      "Processing queries: 100%|██████████| 57/57 [00:13<00:00,  4.14it/s]\n",
      "Processing passages: 100%|██████████| 57/57 [00:35<00:00,  1.59it/s]\n"
     ]
    },
    {
     "name": "stdout",
     "output_type": "stream",
     "text": [
      "\n",
      "Total processing time: 49.93 seconds\n"
     ]
    }
   ],
   "source": [
    "df[\"score\"] = compute_similarity_scores(wrapped_model, tokenized_query, tokenized_passage, batch_size=4 * 128)"
   ]
  }
 ],
 "metadata": {
  "kernelspec": {
   "display_name": "lightning",
   "language": "python",
   "name": "python3"
  },
  "language_info": {
   "codemirror_mode": {
    "name": "ipython",
    "version": 3
   },
   "file_extension": ".py",
   "mimetype": "text/x-python",
   "name": "python",
   "nbconvert_exporter": "python",
   "pygments_lexer": "ipython3",
   "version": "3.11.10"
  }
 },
 "nbformat": 4,
 "nbformat_minor": 2
}
