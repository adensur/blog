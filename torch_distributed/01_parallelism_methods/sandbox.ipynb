{
 "cells": [
  {
   "cell_type": "code",
   "execution_count": 1,
   "metadata": {},
   "outputs": [
    {
     "name": "stderr",
     "output_type": "stream",
     "text": [
      "/traindata/maksim/miniconda3/envs/lightning/lib/python3.11/site-packages/tqdm/auto.py:21: TqdmWarning: IProgress not found. Please update jupyter and ipywidgets. See https://ipywidgets.readthedocs.io/en/stable/user_install.html\n",
      "  from .autonotebook import tqdm as notebook_tqdm\n"
     ]
    }
   ],
   "source": [
    "import torch\n",
    "import torch.nn as nn\n",
    "from transformers import AutoTokenizer"
   ]
  },
  {
   "cell_type": "code",
   "execution_count": 2,
   "metadata": {},
   "outputs": [],
   "source": [
    "tokenizer = AutoTokenizer.from_pretrained(\"bert-base-uncased\")\n",
    "vocab_size = tokenizer.vocab_size\n",
    "embedding_dim = 64"
   ]
  },
  {
   "cell_type": "code",
   "execution_count": 3,
   "metadata": {},
   "outputs": [],
   "source": [
    "class SimpleModel(nn.Module):\n",
    "    def __init__(self):\n",
    "        super(SimpleModel, self).__init__()\n",
    "        self.embedding = nn.Embedding(vocab_size, embedding_dim)\n",
    "        self.hidden_layer = nn.Linear(embedding_dim, embedding_dim)\n",
    "        self.final_layer = nn.Linear(embedding_dim, 1)\n",
    "        \n",
    "    def forward(self, input_ids, attention_mask=None):\n",
    "        # [batch_size, seq_len] -> [batch_size, seq_len, embedding_dim]\n",
    "        embeddings = self.embedding(input_ids)\n",
    "        \n",
    "        # [batch_size, seq_len, embedding_dim] -> [batch_size, seq_len, embedding_dim]\n",
    "        out1 = self.hidden_layer(embeddings)\n",
    "        \n",
    "        # [batch_size, seq_len, embedding_dim] -> [batch_size, seq_len, 1]\n",
    "        out2 = self.final_layer(out1)\n",
    "        \n",
    "        # [batch_size, seq_len, 1] -> [batch_size, 1]\n",
    "        pooled = torch.mean(out2, dim=1)\n",
    "        \n",
    "        return pooled.squeeze(-1)\n",
    "\n",
    "# inference example\n",
    "def loss(outputs):\n",
    "    return torch.sum(outputs)\n",
    "\n",
    "model = SimpleModel()\n"
   ]
  },
  {
   "cell_type": "code",
   "execution_count": 4,
   "metadata": {},
   "outputs": [
    {
     "data": {
      "text/plain": [
       "{'input_ids': tensor([[ 101, 7592, 1010, 2129, 2024, 2017, 1029,  102,    0],\n",
       "        [ 101, 1045, 2572, 2986, 1010, 4067, 2017,  999,  102]]), 'token_type_ids': tensor([[0, 0, 0, 0, 0, 0, 0, 0, 0],\n",
       "        [0, 0, 0, 0, 0, 0, 0, 0, 0]]), 'attention_mask': tensor([[1, 1, 1, 1, 1, 1, 1, 1, 0],\n",
       "        [1, 1, 1, 1, 1, 1, 1, 1, 1]])}"
      ]
     },
     "execution_count": 4,
     "metadata": {},
     "output_type": "execute_result"
    }
   ],
   "source": [
    "\n",
    "# inference example\n",
    "texts = [\"Hello, how are you?\", \"I am fine, thank you!\"]\n",
    "tokens = tokenizer(texts, return_tensors=\"pt\", padding=True, truncation=True, max_length = 10)\n",
    "tokens"
   ]
  },
  {
   "cell_type": "code",
   "execution_count": 7,
   "metadata": {},
   "outputs": [
    {
     "name": "stdout",
     "output_type": "stream",
     "text": [
      "tensor([-0.0727, -0.1011], grad_fn=<SqueezeBackward1>)\n"
     ]
    }
   ],
   "source": [
    "outputs = model(tokens[\"input_ids\"])\n",
    "print(outputs)"
   ]
  },
  {
   "cell_type": "code",
   "execution_count": 8,
   "metadata": {},
   "outputs": [
    {
     "data": {
      "text/plain": [
       "tensor(-0.1738, grad_fn=<SumBackward0>)"
      ]
     },
     "execution_count": 8,
     "metadata": {},
     "output_type": "execute_result"
    }
   ],
   "source": [
    "loss(outputs)"
   ]
  }
 ],
 "metadata": {
  "kernelspec": {
   "display_name": "srch-vespa",
   "language": "python",
   "name": "python3"
  },
  "language_info": {
   "codemirror_mode": {
    "name": "ipython",
    "version": 3
   },
   "file_extension": ".py",
   "mimetype": "text/x-python",
   "name": "python",
   "nbconvert_exporter": "python",
   "pygments_lexer": "ipython3",
   "version": "3.11.10"
  }
 },
 "nbformat": 4,
 "nbformat_minor": 2
}
